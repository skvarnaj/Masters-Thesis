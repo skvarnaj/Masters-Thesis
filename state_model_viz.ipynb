{
 "cells": [
  {
   "cell_type": "code",
   "execution_count": 1,
   "source": [
    "from os import path\n",
    "import pandas as pd\n",
    "from pandas import DataFrame\n",
    "import numpy as np\n",
    "import matplotlib.pyplot as plt\n",
    "%matplotlib inline\n",
    "import seaborn as sns\n",
    "import statsmodels.formula.api as smf\n",
    "import statsmodels.api as sm\n",
    "from sklearn import linear_model\n",
    "DATA_DIR = 'Data'\n",
    "FIG_DIR = 'Figures/State/'"
   ],
   "outputs": [],
   "metadata": {}
  },
  {
   "cell_type": "markdown",
   "source": [
    "# 0. Load and manipulate dataset"
   ],
   "metadata": {}
  },
  {
   "cell_type": "code",
   "execution_count": 2,
   "source": [
    "state_dataset = pd.read_csv(path.join(DATA_DIR, 'state_dataset.csv'))\n",
    "state_dataset.head()"
   ],
   "outputs": [
    {
     "output_type": "execute_result",
     "data": {
      "text/plain": [
       "        state  CO2_per_capita  partisanship        governor governor_party  \\\n",
       "0     Alabama            23.2          27.0        Kay Ivey    Republican    \n",
       "1      Alaska            47.6          15.0   Mike Dunleavy    Republican    \n",
       "2     Arizona            13.1           9.0      Doug Ducey    Republican    \n",
       "3    Arkansas            23.6          24.0  Asa Hutchinson    Republican    \n",
       "4  California             9.0         -24.0    Gavin Newsom    Democratic    \n",
       "\n",
       "   climate_alliance  \n",
       "0             False  \n",
       "1             False  \n",
       "2             False  \n",
       "3             False  \n",
       "4              True  "
      ],
      "text/html": [
       "<div>\n",
       "<style scoped>\n",
       "    .dataframe tbody tr th:only-of-type {\n",
       "        vertical-align: middle;\n",
       "    }\n",
       "\n",
       "    .dataframe tbody tr th {\n",
       "        vertical-align: top;\n",
       "    }\n",
       "\n",
       "    .dataframe thead th {\n",
       "        text-align: right;\n",
       "    }\n",
       "</style>\n",
       "<table border=\"1\" class=\"dataframe\">\n",
       "  <thead>\n",
       "    <tr style=\"text-align: right;\">\n",
       "      <th></th>\n",
       "      <th>state</th>\n",
       "      <th>CO2_per_capita</th>\n",
       "      <th>partisanship</th>\n",
       "      <th>governor</th>\n",
       "      <th>governor_party</th>\n",
       "      <th>climate_alliance</th>\n",
       "    </tr>\n",
       "  </thead>\n",
       "  <tbody>\n",
       "    <tr>\n",
       "      <th>0</th>\n",
       "      <td>Alabama</td>\n",
       "      <td>23.2</td>\n",
       "      <td>27.0</td>\n",
       "      <td>Kay Ivey</td>\n",
       "      <td>Republican</td>\n",
       "      <td>False</td>\n",
       "    </tr>\n",
       "    <tr>\n",
       "      <th>1</th>\n",
       "      <td>Alaska</td>\n",
       "      <td>47.6</td>\n",
       "      <td>15.0</td>\n",
       "      <td>Mike Dunleavy</td>\n",
       "      <td>Republican</td>\n",
       "      <td>False</td>\n",
       "    </tr>\n",
       "    <tr>\n",
       "      <th>2</th>\n",
       "      <td>Arizona</td>\n",
       "      <td>13.1</td>\n",
       "      <td>9.0</td>\n",
       "      <td>Doug Ducey</td>\n",
       "      <td>Republican</td>\n",
       "      <td>False</td>\n",
       "    </tr>\n",
       "    <tr>\n",
       "      <th>3</th>\n",
       "      <td>Arkansas</td>\n",
       "      <td>23.6</td>\n",
       "      <td>24.0</td>\n",
       "      <td>Asa Hutchinson</td>\n",
       "      <td>Republican</td>\n",
       "      <td>False</td>\n",
       "    </tr>\n",
       "    <tr>\n",
       "      <th>4</th>\n",
       "      <td>California</td>\n",
       "      <td>9.0</td>\n",
       "      <td>-24.0</td>\n",
       "      <td>Gavin Newsom</td>\n",
       "      <td>Democratic</td>\n",
       "      <td>True</td>\n",
       "    </tr>\n",
       "  </tbody>\n",
       "</table>\n",
       "</div>"
      ]
     },
     "metadata": {},
     "execution_count": 2
    }
   ],
   "metadata": {}
  },
  {
   "cell_type": "code",
   "execution_count": 4,
   "source": [
    "state_dataset[['climate_alliance']] = state_dataset[['climate_alliance']].astype(int)\n",
    "state_dataset[['is_democrat']] = (state_dataset[['governor_party']] == 'Democratic ').astype(int)\n",
    "state_dataset.head()"
   ],
   "outputs": [
    {
     "output_type": "execute_result",
     "data": {
      "text/plain": [
       "        state  CO2_per_capita  partisanship        governor governor_party  \\\n",
       "0     Alabama            23.2          27.0        Kay Ivey    Republican    \n",
       "1      Alaska            47.6          15.0   Mike Dunleavy    Republican    \n",
       "2     Arizona            13.1           9.0      Doug Ducey    Republican    \n",
       "3    Arkansas            23.6          24.0  Asa Hutchinson    Republican    \n",
       "4  California             9.0         -24.0    Gavin Newsom    Democratic    \n",
       "\n",
       "   climate_alliance  is_democrat  \n",
       "0                 0            0  \n",
       "1                 0            0  \n",
       "2                 0            0  \n",
       "3                 0            0  \n",
       "4                 1            1  "
      ],
      "text/html": [
       "<div>\n",
       "<style scoped>\n",
       "    .dataframe tbody tr th:only-of-type {\n",
       "        vertical-align: middle;\n",
       "    }\n",
       "\n",
       "    .dataframe tbody tr th {\n",
       "        vertical-align: top;\n",
       "    }\n",
       "\n",
       "    .dataframe thead th {\n",
       "        text-align: right;\n",
       "    }\n",
       "</style>\n",
       "<table border=\"1\" class=\"dataframe\">\n",
       "  <thead>\n",
       "    <tr style=\"text-align: right;\">\n",
       "      <th></th>\n",
       "      <th>state</th>\n",
       "      <th>CO2_per_capita</th>\n",
       "      <th>partisanship</th>\n",
       "      <th>governor</th>\n",
       "      <th>governor_party</th>\n",
       "      <th>climate_alliance</th>\n",
       "      <th>is_democrat</th>\n",
       "    </tr>\n",
       "  </thead>\n",
       "  <tbody>\n",
       "    <tr>\n",
       "      <th>0</th>\n",
       "      <td>Alabama</td>\n",
       "      <td>23.2</td>\n",
       "      <td>27.0</td>\n",
       "      <td>Kay Ivey</td>\n",
       "      <td>Republican</td>\n",
       "      <td>0</td>\n",
       "      <td>0</td>\n",
       "    </tr>\n",
       "    <tr>\n",
       "      <th>1</th>\n",
       "      <td>Alaska</td>\n",
       "      <td>47.6</td>\n",
       "      <td>15.0</td>\n",
       "      <td>Mike Dunleavy</td>\n",
       "      <td>Republican</td>\n",
       "      <td>0</td>\n",
       "      <td>0</td>\n",
       "    </tr>\n",
       "    <tr>\n",
       "      <th>2</th>\n",
       "      <td>Arizona</td>\n",
       "      <td>13.1</td>\n",
       "      <td>9.0</td>\n",
       "      <td>Doug Ducey</td>\n",
       "      <td>Republican</td>\n",
       "      <td>0</td>\n",
       "      <td>0</td>\n",
       "    </tr>\n",
       "    <tr>\n",
       "      <th>3</th>\n",
       "      <td>Arkansas</td>\n",
       "      <td>23.6</td>\n",
       "      <td>24.0</td>\n",
       "      <td>Asa Hutchinson</td>\n",
       "      <td>Republican</td>\n",
       "      <td>0</td>\n",
       "      <td>0</td>\n",
       "    </tr>\n",
       "    <tr>\n",
       "      <th>4</th>\n",
       "      <td>California</td>\n",
       "      <td>9.0</td>\n",
       "      <td>-24.0</td>\n",
       "      <td>Gavin Newsom</td>\n",
       "      <td>Democratic</td>\n",
       "      <td>1</td>\n",
       "      <td>1</td>\n",
       "    </tr>\n",
       "  </tbody>\n",
       "</table>\n",
       "</div>"
      ]
     },
     "metadata": {},
     "execution_count": 4
    }
   ],
   "metadata": {}
  },
  {
   "cell_type": "code",
   "execution_count": 5,
   "source": [
    "state_dataset.describe()"
   ],
   "outputs": [
    {
     "output_type": "execute_result",
     "data": {
      "text/plain": [
       "       CO2_per_capita  partisanship  climate_alliance  is_democrat\n",
       "count       50.000000     50.000000         50.000000    50.000000\n",
       "mean        21.326000      6.060000          0.480000     0.460000\n",
       "std         17.871512     19.701248          0.504672     0.503457\n",
       "min          9.000000    -36.000000          0.000000     0.000000\n",
       "25%         11.525000     -8.500000          0.000000     0.000000\n",
       "50%         16.550000      5.500000          0.000000     0.000000\n",
       "75%         23.500000     22.000000          1.000000     1.000000\n",
       "max        109.900000     47.000000          1.000000     1.000000"
      ],
      "text/html": [
       "<div>\n",
       "<style scoped>\n",
       "    .dataframe tbody tr th:only-of-type {\n",
       "        vertical-align: middle;\n",
       "    }\n",
       "\n",
       "    .dataframe tbody tr th {\n",
       "        vertical-align: top;\n",
       "    }\n",
       "\n",
       "    .dataframe thead th {\n",
       "        text-align: right;\n",
       "    }\n",
       "</style>\n",
       "<table border=\"1\" class=\"dataframe\">\n",
       "  <thead>\n",
       "    <tr style=\"text-align: right;\">\n",
       "      <th></th>\n",
       "      <th>CO2_per_capita</th>\n",
       "      <th>partisanship</th>\n",
       "      <th>climate_alliance</th>\n",
       "      <th>is_democrat</th>\n",
       "    </tr>\n",
       "  </thead>\n",
       "  <tbody>\n",
       "    <tr>\n",
       "      <th>count</th>\n",
       "      <td>50.000000</td>\n",
       "      <td>50.000000</td>\n",
       "      <td>50.000000</td>\n",
       "      <td>50.000000</td>\n",
       "    </tr>\n",
       "    <tr>\n",
       "      <th>mean</th>\n",
       "      <td>21.326000</td>\n",
       "      <td>6.060000</td>\n",
       "      <td>0.480000</td>\n",
       "      <td>0.460000</td>\n",
       "    </tr>\n",
       "    <tr>\n",
       "      <th>std</th>\n",
       "      <td>17.871512</td>\n",
       "      <td>19.701248</td>\n",
       "      <td>0.504672</td>\n",
       "      <td>0.503457</td>\n",
       "    </tr>\n",
       "    <tr>\n",
       "      <th>min</th>\n",
       "      <td>9.000000</td>\n",
       "      <td>-36.000000</td>\n",
       "      <td>0.000000</td>\n",
       "      <td>0.000000</td>\n",
       "    </tr>\n",
       "    <tr>\n",
       "      <th>25%</th>\n",
       "      <td>11.525000</td>\n",
       "      <td>-8.500000</td>\n",
       "      <td>0.000000</td>\n",
       "      <td>0.000000</td>\n",
       "    </tr>\n",
       "    <tr>\n",
       "      <th>50%</th>\n",
       "      <td>16.550000</td>\n",
       "      <td>5.500000</td>\n",
       "      <td>0.000000</td>\n",
       "      <td>0.000000</td>\n",
       "    </tr>\n",
       "    <tr>\n",
       "      <th>75%</th>\n",
       "      <td>23.500000</td>\n",
       "      <td>22.000000</td>\n",
       "      <td>1.000000</td>\n",
       "      <td>1.000000</td>\n",
       "    </tr>\n",
       "    <tr>\n",
       "      <th>max</th>\n",
       "      <td>109.900000</td>\n",
       "      <td>47.000000</td>\n",
       "      <td>1.000000</td>\n",
       "      <td>1.000000</td>\n",
       "    </tr>\n",
       "  </tbody>\n",
       "</table>\n",
       "</div>"
      ]
     },
     "metadata": {},
     "execution_count": 5
    }
   ],
   "metadata": {}
  },
  {
   "cell_type": "markdown",
   "source": [
    "# 1. CO2 model"
   ],
   "metadata": {}
  },
  {
   "cell_type": "markdown",
   "source": [
    "## 1.1. Full linear model"
   ],
   "metadata": {}
  },
  {
   "cell_type": "code",
   "execution_count": 6,
   "source": [
    "model = smf.ols(formula='CO2_per_capita ~ partisanship + climate_alliance + is_democrat', data = state_dataset)\n",
    "results = model.fit()\n",
    "print(results.summary())"
   ],
   "outputs": [
    {
     "output_type": "stream",
     "name": "stdout",
     "text": [
      "                            OLS Regression Results                            \n",
      "==============================================================================\n",
      "Dep. Variable:         CO2_per_capita   R-squared:                       0.364\n",
      "Model:                            OLS   Adj. R-squared:                  0.322\n",
      "Method:                 Least Squares   F-statistic:                     8.771\n",
      "Date:                Thu, 06 Jan 2022   Prob (F-statistic):           0.000104\n",
      "Time:                        19:19:39   Log-Likelihood:                -203.29\n",
      "No. Observations:                  50   AIC:                             414.6\n",
      "Df Residuals:                      46   BIC:                             422.2\n",
      "Df Model:                           3                                         \n",
      "Covariance Type:            nonrobust                                         \n",
      "====================================================================================\n",
      "                       coef    std err          t      P>|t|      [0.025      0.975]\n",
      "------------------------------------------------------------------------------------\n",
      "Intercept           12.6726      4.811      2.634      0.011       2.989      22.356\n",
      "partisanship         0.7416      0.188      3.952      0.000       0.364       1.119\n",
      "climate_alliance    15.0157     10.245      1.466      0.150      -5.607      35.639\n",
      "is_democrat         -6.6262      7.253     -0.914      0.366     -21.225       7.973\n",
      "==============================================================================\n",
      "Omnibus:                       38.901   Durbin-Watson:                   1.906\n",
      "Prob(Omnibus):                  0.000   Jarque-Bera (JB):              131.238\n",
      "Skew:                           2.052   Prob(JB):                     3.18e-29\n",
      "Kurtosis:                       9.794   Cond. No.                         119.\n",
      "==============================================================================\n",
      "\n",
      "Notes:\n",
      "[1] Standard Errors assume that the covariance matrix of the errors is correctly specified.\n"
     ]
    }
   ],
   "metadata": {
    "collapsed": true
   }
  },
  {
   "cell_type": "code",
   "execution_count": 7,
   "source": [
    "corr_matrix = state_dataset.corr()\n",
    "corr_matrix['CO2_per_capita'].sort_values(ascending = False)"
   ],
   "outputs": [
    {
     "output_type": "execute_result",
     "data": {
      "text/plain": [
       "CO2_per_capita      1.000000\n",
       "partisanship        0.577478\n",
       "is_democrat        -0.292139\n",
       "climate_alliance   -0.383814\n",
       "Name: CO2_per_capita, dtype: float64"
      ]
     },
     "metadata": {},
     "execution_count": 7
    }
   ],
   "metadata": {}
  },
  {
   "cell_type": "markdown",
   "source": [
    "## 1.2 CO2 and partisanship"
   ],
   "metadata": {}
  },
  {
   "cell_type": "code",
   "execution_count": 6,
   "source": [
    "model = smf.ols(formula='CO2_per_capita ~ partisanship', data = state_dataset)\n",
    "results = model.fit()\n",
    "print(results.summary())"
   ],
   "outputs": [
    {
     "output_type": "stream",
     "name": "stdout",
     "text": [
      "                            OLS Regression Results                            \n",
      "==============================================================================\n",
      "Dep. Variable:         CO2_per_capita   R-squared:                       0.333\n",
      "Model:                            OLS   Adj. R-squared:                  0.320\n",
      "Method:                 Least Squares   F-statistic:                     24.02\n",
      "Date:                Tue, 04 Jan 2022   Prob (F-statistic):           1.13e-05\n",
      "Time:                        21:46:18   Log-Likelihood:                -204.46\n",
      "No. Observations:                  50   AIC:                             412.9\n",
      "Df Residuals:                      48   BIC:                             416.7\n",
      "Df Model:                           1                                         \n",
      "Covariance Type:            nonrobust                                         \n",
      "================================================================================\n",
      "                   coef    std err          t      P>|t|      [0.025      0.975]\n",
      "--------------------------------------------------------------------------------\n",
      "Intercept       18.1515      2.183      8.315      0.000      13.762      22.541\n",
      "partisanship     0.5238      0.107      4.901      0.000       0.309       0.739\n",
      "==============================================================================\n",
      "Omnibus:                       45.615   Durbin-Watson:                   1.774\n",
      "Prob(Omnibus):                  0.000   Jarque-Bera (JB):              192.251\n",
      "Skew:                           2.378   Prob(JB):                     1.79e-42\n",
      "Kurtosis:                      11.346   Cond. No.                         21.4\n",
      "==============================================================================\n",
      "\n",
      "Notes:\n",
      "[1] Standard Errors assume that the covariance matrix of the errors is correctly specified.\n"
     ]
    }
   ],
   "metadata": {
    "collapsed": true
   }
  },
  {
   "cell_type": "code",
   "execution_count": 15,
   "source": [
    "sns.regplot(y = 'CO2_per_capita', x = 'partisanship', data = state_dataset)\n",
    "plt.savefig(FIG_DIR + 'CO2_partisanship.png')"
   ],
   "outputs": [
    {
     "output_type": "display_data",
     "data": {
      "text/plain": [
       "<Figure size 432x288 with 1 Axes>"
      ],
      "image/png": "[encoded data removed]"
     },
     "metadata": {
      "needs_background": "light"
     }
    }
   ],
   "metadata": {}
  },
  {
   "cell_type": "markdown",
   "source": [
    "## 1.3. CO2 and climate alliance"
   ],
   "metadata": {}
  },
  {
   "cell_type": "code",
   "execution_count": 9,
   "source": [
    "model = smf.ols(formula='CO2_per_capita ~ climate_alliance', data = state_dataset)\n",
    "results = model.fit()\n",
    "print(results.summary())"
   ],
   "outputs": [
    {
     "output_type": "stream",
     "name": "stdout",
     "text": [
      "                            OLS Regression Results                            \n",
      "==============================================================================\n",
      "Dep. Variable:         CO2_per_capita   R-squared:                       0.147\n",
      "Model:                            OLS   Adj. R-squared:                  0.130\n",
      "Method:                 Least Squares   F-statistic:                     8.293\n",
      "Date:                Tue, 04 Jan 2022   Prob (F-statistic):            0.00593\n",
      "Time:                        21:58:03   Log-Likelihood:                -210.62\n",
      "No. Observations:                  50   AIC:                             425.2\n",
      "Df Residuals:                      48   BIC:                             429.1\n",
      "Df Model:                           1                                         \n",
      "Covariance Type:            nonrobust                                         \n",
      "====================================================================================\n",
      "                       coef    std err          t      P>|t|      [0.025      0.975]\n",
      "------------------------------------------------------------------------------------\n",
      "Intercept           27.8500      3.270      8.517      0.000      21.275      34.425\n",
      "climate_alliance   -13.5917      4.720     -2.880      0.006     -23.082      -4.102\n",
      "==============================================================================\n",
      "Omnibus:                       59.561   Durbin-Watson:                   1.496\n",
      "Prob(Omnibus):                  0.000   Jarque-Bera (JB):              376.709\n",
      "Skew:                           3.153   Prob(JB):                     1.58e-82\n",
      "Kurtosis:                      14.876   Cond. No.                         2.57\n",
      "==============================================================================\n",
      "\n",
      "Notes:\n",
      "[1] Standard Errors assume that the covariance matrix of the errors is correctly specified.\n"
     ]
    }
   ],
   "metadata": {
    "scrolled": false
   }
  },
  {
   "cell_type": "code",
   "execution_count": 18,
   "source": [
    "sns.regplot(y = 'CO2_per_capita', x = 'climate_alliance', data = state_dataset)\n",
    "plt.savefig(FIG_DIR + 'CO2_climatealliance.png')"
   ],
   "outputs": [
    {
     "output_type": "display_data",
     "data": {
      "text/plain": [
       "<Figure size 432x288 with 1 Axes>"
      ],
      "image/png": "[encoded data removed]"
     },
     "metadata": {
      "needs_background": "light"
     }
    }
   ],
   "metadata": {
    "scrolled": false
   }
  },
  {
   "cell_type": "markdown",
   "source": [
    "## 1.4. CO2 and is_democrat"
   ],
   "metadata": {}
  },
  {
   "cell_type": "code",
   "execution_count": 10,
   "source": [
    "model = smf.ols(formula='CO2_per_capita ~ is_democrat', data = state_dataset)\n",
    "results = model.fit()\n",
    "print(results.summary())"
   ],
   "outputs": [
    {
     "output_type": "stream",
     "name": "stdout",
     "text": [
      "                            OLS Regression Results                            \n",
      "==============================================================================\n",
      "Dep. Variable:         CO2_per_capita   R-squared:                       0.085\n",
      "Model:                            OLS   Adj. R-squared:                  0.066\n",
      "Method:                 Least Squares   F-statistic:                     4.479\n",
      "Date:                Tue, 04 Jan 2022   Prob (F-statistic):             0.0395\n",
      "Time:                        22:13:06   Log-Likelihood:                -212.37\n",
      "No. Observations:                  50   AIC:                             428.7\n",
      "Df Residuals:                      48   BIC:                             432.6\n",
      "Df Model:                           1                                         \n",
      "Covariance Type:            nonrobust                                         \n",
      "===============================================================================\n",
      "                  coef    std err          t      P>|t|      [0.025      0.975]\n",
      "-------------------------------------------------------------------------------\n",
      "Intercept      26.0963      3.323      7.852      0.000      19.414      32.778\n",
      "is_democrat   -10.3702      4.900     -2.116      0.040     -20.223      -0.518\n",
      "==============================================================================\n",
      "Omnibus:                       57.402   Durbin-Watson:                   1.435\n",
      "Prob(Omnibus):                  0.000   Jarque-Bera (JB):              335.961\n",
      "Skew:                           3.039   Prob(JB):                     1.11e-73\n",
      "Kurtosis:                      14.150   Cond. No.                         2.53\n",
      "==============================================================================\n",
      "\n",
      "Notes:\n",
      "[1] Standard Errors assume that the covariance matrix of the errors is correctly specified.\n"
     ]
    }
   ],
   "metadata": {}
  },
  {
   "cell_type": "code",
   "execution_count": 19,
   "source": [
    "sns.regplot(y = 'CO2_per_capita', x = 'is_democrat', data = state_dataset)\n",
    "plt.savefig(FIG_DIR + 'CO2_isdemocrat.png')"
   ],
   "outputs": [
    {
     "output_type": "display_data",
     "data": {
      "text/plain": [
       "<Figure size 432x288 with 1 Axes>"
      ],
      "image/png": "[encoded data removed]"
     },
     "metadata": {
      "needs_background": "light"
     }
    }
   ],
   "metadata": {}
  },
  {
   "cell_type": "markdown",
   "source": [
    "# 2. Climate Aliiance model"
   ],
   "metadata": {}
  },
  {
   "cell_type": "markdown",
   "source": [
    "## 2.0: Viz"
   ],
   "metadata": {}
  },
  {
   "cell_type": "code",
   "execution_count": 148,
   "source": [
    "colors = [\"#FA3535\", \"#0C61DF\"]\n",
    "sns.set_palette(sns.color_palette(colors))\n",
    "sns.barplot(x = 'governor_party', y = 'climate_alliance', data = state_dataset)"
   ],
   "outputs": [
    {
     "output_type": "execute_result",
     "data": {
      "text/plain": [
       "<AxesSubplot:xlabel='governor_party', ylabel='climate_alliance'>"
      ]
     },
     "metadata": {},
     "execution_count": 148
    },
    {
     "output_type": "display_data",
     "data": {
      "text/plain": [
       "<Figure size 432x288 with 1 Axes>"
      ],
      "image/png": "[encoded data removed]"
     },
     "metadata": {
      "needs_background": "light"
     }
    }
   ],
   "metadata": {}
  },
  {
   "cell_type": "code",
   "execution_count": 147,
   "source": [
    "colors = [\"#FA3535\", \"#0C61DF\"]\n",
    "sns.set_palette(sns.color_palette(colors))\n",
    "sns.countplot(x = 'climate_alliance', hue = 'governor_party', data = state_dataset)"
   ],
   "outputs": [
    {
     "output_type": "execute_result",
     "data": {
      "text/plain": [
       "<AxesSubplot:xlabel='climate_alliance', ylabel='count'>"
      ]
     },
     "metadata": {},
     "execution_count": 147
    },
    {
     "output_type": "display_data",
     "data": {
      "text/plain": [
       "<Figure size 432x288 with 1 Axes>"
      ],
      "image/png": "[encoded data removed]"
     },
     "metadata": {
      "needs_background": "light"
     }
    }
   ],
   "metadata": {}
  },
  {
   "cell_type": "code",
   "execution_count": 149,
   "source": [
    "sns.countplot(hue = 'climate_alliance', x = 'governor_party', palette ='pastel', data = state_dataset)"
   ],
   "outputs": [
    {
     "output_type": "execute_result",
     "data": {
      "text/plain": [
       "<AxesSubplot:xlabel='governor_party', ylabel='count'>"
      ]
     },
     "metadata": {},
     "execution_count": 149
    },
    {
     "output_type": "display_data",
     "data": {
      "text/plain": [
       "<Figure size 432x288 with 1 Axes>"
      ],
      "image/png": "[encoded data removed]"
     },
     "metadata": {
      "needs_background": "light"
     }
    }
   ],
   "metadata": {}
  },
  {
   "cell_type": "code",
   "execution_count": 20,
   "source": [
    "plt.figure(figsize = (8,4))\n",
    "colors = [\"#FA3535\", \"#0C61DF\"]\n",
    "sns.set_palette(sns.color_palette(colors))\n",
    "sns.swarmplot(data = state_dataset, y = 'partisanship', x = 'climate_alliance', hue = 'governor_party')\n",
    "plt.suptitle('State Partisanship rating and membership in US Climate Aliiance')\n",
    "plt.xticks([0, 1], ['Not a member', 'Member'])\n",
    "plt.xlabel('Membership in Climate Alliance')\n",
    "plt.ylabel('Partisanship rating')\n",
    "plt.legend(title = 'Governor Political Party', loc = 'best')\n",
    "sns.despine()\n",
    "plt.savefig(FIG_DIR + 'swarmplot.png')"
   ],
   "outputs": [
    {
     "output_type": "display_data",
     "data": {
      "text/plain": [
       "<Figure size 576x288 with 1 Axes>"
      ],
      "image/png": "[encoded data removed]"
     },
     "metadata": {
      "needs_background": "light"
     }
    }
   ],
   "metadata": {}
  },
  {
   "cell_type": "markdown",
   "source": [
    "## 2.1: Climate multiple regression model"
   ],
   "metadata": {}
  },
  {
   "cell_type": "markdown",
   "source": [
    "### 2.1a: linear"
   ],
   "metadata": {}
  },
  {
   "cell_type": "code",
   "execution_count": 91,
   "source": [
    "model = smf.ols(formula='climate_alliance ~ partisanship + is_democrat', data = state_dataset)\n",
    "results = model.fit()\n",
    "results.summary()"
   ],
   "outputs": [
    {
     "output_type": "execute_result",
     "data": {
      "text/plain": [
       "<class 'statsmodels.iolib.summary.Summary'>\n",
       "\"\"\"\n",
       "                            OLS Regression Results                            \n",
       "==============================================================================\n",
       "Dep. Variable:       climate_alliance   R-squared:                       0.835\n",
       "Model:                            OLS   Adj. R-squared:                  0.828\n",
       "Method:                 Least Squares   F-statistic:                     118.7\n",
       "Date:                Tue, 04 Jan 2022   Prob (F-statistic):           4.20e-19\n",
       "Time:                        19:57:34   Log-Likelihood:                 8.7643\n",
       "No. Observations:                  50   AIC:                            -11.53\n",
       "Df Residuals:                      47   BIC:                            -5.793\n",
       "Df Model:                           2                                         \n",
       "Covariance Type:            nonrobust                                         \n",
       "================================================================================\n",
       "                   coef    std err          t      P>|t|      [0.025      0.975]\n",
       "--------------------------------------------------------------------------------\n",
       "Intercept        0.3247      0.049      6.563      0.000       0.225       0.424\n",
       "partisanship    -0.0135      0.002     -7.444      0.000      -0.017      -0.010\n",
       "is_democrat      0.5151      0.071      7.273      0.000       0.373       0.658\n",
       "==============================================================================\n",
       "Omnibus:                        2.383   Durbin-Watson:                   1.444\n",
       "Prob(Omnibus):                  0.304   Jarque-Bera (JB):                1.648\n",
       "Skew:                          -0.432   Prob(JB):                        0.439\n",
       "Kurtosis:                       3.215   Cond. No.                         56.7\n",
       "==============================================================================\n",
       "\n",
       "Notes:\n",
       "[1] Standard Errors assume that the covariance matrix of the errors is correctly specified.\n",
       "\"\"\""
      ],
      "text/html": [
       "<table class=\"simpletable\">\n",
       "<caption>OLS Regression Results</caption>\n",
       "<tr>\n",
       "  <th>Dep. Variable:</th>    <td>climate_alliance</td> <th>  R-squared:         </th> <td>   0.835</td>\n",
       "</tr>\n",
       "<tr>\n",
       "  <th>Model:</th>                   <td>OLS</td>       <th>  Adj. R-squared:    </th> <td>   0.828</td>\n",
       "</tr>\n",
       "<tr>\n",
       "  <th>Method:</th>             <td>Least Squares</td>  <th>  F-statistic:       </th> <td>   118.7</td>\n",
       "</tr>\n",
       "<tr>\n",
       "  <th>Date:</th>             <td>Tue, 04 Jan 2022</td> <th>  Prob (F-statistic):</th> <td>4.20e-19</td>\n",
       "</tr>\n",
       "<tr>\n",
       "  <th>Time:</th>                 <td>19:57:34</td>     <th>  Log-Likelihood:    </th> <td>  8.7643</td>\n",
       "</tr>\n",
       "<tr>\n",
       "  <th>No. Observations:</th>      <td>    50</td>      <th>  AIC:               </th> <td>  -11.53</td>\n",
       "</tr>\n",
       "<tr>\n",
       "  <th>Df Residuals:</th>          <td>    47</td>      <th>  BIC:               </th> <td>  -5.793</td>\n",
       "</tr>\n",
       "<tr>\n",
       "  <th>Df Model:</th>              <td>     2</td>      <th>                     </th>     <td> </td>   \n",
       "</tr>\n",
       "<tr>\n",
       "  <th>Covariance Type:</th>      <td>nonrobust</td>    <th>                     </th>     <td> </td>   \n",
       "</tr>\n",
       "</table>\n",
       "<table class=\"simpletable\">\n",
       "<tr>\n",
       "        <td></td>          <th>coef</th>     <th>std err</th>      <th>t</th>      <th>P>|t|</th>  <th>[0.025</th>    <th>0.975]</th>  \n",
       "</tr>\n",
       "<tr>\n",
       "  <th>Intercept</th>    <td>    0.3247</td> <td>    0.049</td> <td>    6.563</td> <td> 0.000</td> <td>    0.225</td> <td>    0.424</td>\n",
       "</tr>\n",
       "<tr>\n",
       "  <th>partisanship</th> <td>   -0.0135</td> <td>    0.002</td> <td>   -7.444</td> <td> 0.000</td> <td>   -0.017</td> <td>   -0.010</td>\n",
       "</tr>\n",
       "<tr>\n",
       "  <th>is_democrat</th>  <td>    0.5151</td> <td>    0.071</td> <td>    7.273</td> <td> 0.000</td> <td>    0.373</td> <td>    0.658</td>\n",
       "</tr>\n",
       "</table>\n",
       "<table class=\"simpletable\">\n",
       "<tr>\n",
       "  <th>Omnibus:</th>       <td> 2.383</td> <th>  Durbin-Watson:     </th> <td>   1.444</td>\n",
       "</tr>\n",
       "<tr>\n",
       "  <th>Prob(Omnibus):</th> <td> 0.304</td> <th>  Jarque-Bera (JB):  </th> <td>   1.648</td>\n",
       "</tr>\n",
       "<tr>\n",
       "  <th>Skew:</th>          <td>-0.432</td> <th>  Prob(JB):          </th> <td>   0.439</td>\n",
       "</tr>\n",
       "<tr>\n",
       "  <th>Kurtosis:</th>      <td> 3.215</td> <th>  Cond. No.          </th> <td>    56.7</td>\n",
       "</tr>\n",
       "</table><br/><br/>Notes:<br/>[1] Standard Errors assume that the covariance matrix of the errors is correctly specified."
      ]
     },
     "metadata": {},
     "execution_count": 91
    }
   ],
   "metadata": {}
  },
  {
   "cell_type": "code",
   "execution_count": 8,
   "source": [
    "corr_matrix = state_dataset.corr()\n",
    "corr_matrix['climate_alliance'].sort_values(ascending = False)"
   ],
   "outputs": [
    {
     "output_type": "execute_result",
     "data": {
      "text/plain": [
       "climate_alliance    1.000000\n",
       "is_democrat         0.800002\n",
       "CO2_per_capita     -0.383814\n",
       "partisanship       -0.805516\n",
       "Name: climate_alliance, dtype: float64"
      ]
     },
     "metadata": {},
     "execution_count": 8
    }
   ],
   "metadata": {}
  },
  {
   "cell_type": "markdown",
   "source": [
    "### 2.1b: logistic"
   ],
   "metadata": {}
  },
  {
   "cell_type": "markdown",
   "source": [
    "## 2.2: Climate Alliance and partisanship"
   ],
   "metadata": {}
  },
  {
   "cell_type": "markdown",
   "source": [
    "### 2.2a: linear"
   ],
   "metadata": {}
  },
  {
   "cell_type": "code",
   "execution_count": 11,
   "source": [
    "model = smf.ols(formula='climate_alliance ~ partisanship', data = state_dataset)\n",
    "results = model.fit()\n",
    "print(results.summary())"
   ],
   "outputs": [
    {
     "output_type": "stream",
     "name": "stdout",
     "text": [
      "                            OLS Regression Results                            \n",
      "==============================================================================\n",
      "Dep. Variable:       climate_alliance   R-squared:                       0.649\n",
      "Model:                            OLS   Adj. R-squared:                  0.642\n",
      "Method:                 Least Squares   F-statistic:                     88.70\n",
      "Date:                Tue, 04 Jan 2022   Prob (F-statistic):           1.74e-12\n",
      "Time:                        22:23:05   Log-Likelihood:                -10.086\n",
      "No. Observations:                  50   AIC:                             24.17\n",
      "Df Residuals:                      48   BIC:                             28.00\n",
      "Df Model:                           1                                         \n",
      "Covariance Type:            nonrobust                                         \n",
      "================================================================================\n",
      "                   coef    std err          t      P>|t|      [0.025      0.975]\n",
      "--------------------------------------------------------------------------------\n",
      "Intercept        0.6050      0.045     13.522      0.000       0.515       0.695\n",
      "partisanship    -0.0206      0.002     -9.418      0.000      -0.025      -0.016\n",
      "==============================================================================\n",
      "Omnibus:                        1.030   Durbin-Watson:                   1.663\n",
      "Prob(Omnibus):                  0.598   Jarque-Bera (JB):                1.021\n",
      "Skew:                           0.202   Prob(JB):                        0.600\n",
      "Kurtosis:                       2.428   Cond. No.                         21.4\n",
      "==============================================================================\n",
      "\n",
      "Notes:\n",
      "[1] Standard Errors assume that the covariance matrix of the errors is correctly specified.\n"
     ]
    }
   ],
   "metadata": {}
  },
  {
   "cell_type": "code",
   "execution_count": 95,
   "source": [
    "sns.regplot(y = 'climate_alliance', x = 'partisanship', data = state_dataset)"
   ],
   "outputs": [
    {
     "output_type": "execute_result",
     "data": {
      "text/plain": [
       "<AxesSubplot:xlabel='partisanship', ylabel='climate_alliance'>"
      ]
     },
     "metadata": {},
     "execution_count": 95
    },
    {
     "output_type": "display_data",
     "data": {
      "text/plain": [
       "<Figure size 432x288 with 1 Axes>"
      ],
      "image/png": "[encoded data removed]"
     },
     "metadata": {
      "needs_background": "light"
     }
    }
   ],
   "metadata": {}
  },
  {
   "cell_type": "markdown",
   "source": [
    "### 2.2b: logistic"
   ],
   "metadata": {}
  },
  {
   "cell_type": "code",
   "execution_count": 105,
   "source": [
    "#model\n",
    "\n",
    "# defining the dependent and independent variables\n",
    "X = state_dataset[['partisanship']]\n",
    "y = state_dataset[['climate_alliance']]\n",
    "  \n",
    "# building the model and fitting the data\n",
    "log_reg = sm.Logit(y, X).fit()\n",
    "\n",
    "print(log_reg.summary())"
   ],
   "outputs": [
    {
     "output_type": "stream",
     "name": "stdout",
     "text": [
      "Optimization terminated successfully.\n",
      "         Current function value: 0.250092\n",
      "         Iterations 8\n",
      "                           Logit Regression Results                           \n",
      "==============================================================================\n",
      "Dep. Variable:       climate_alliance   No. Observations:                   50\n",
      "Model:                          Logit   Df Residuals:                       49\n",
      "Method:                           MLE   Df Model:                            0\n",
      "Date:                Tue, 04 Jan 2022   Pseudo R-squ.:                  0.6388\n",
      "Time:                        20:12:26   Log-Likelihood:                -12.505\n",
      "converged:                       True   LL-Null:                       -34.617\n",
      "Covariance Type:            nonrobust   LLR p-value:                       nan\n",
      "================================================================================\n",
      "                   coef    std err          z      P>|z|      [0.025      0.975]\n",
      "--------------------------------------------------------------------------------\n",
      "partisanship    -0.2093      0.066     -3.164      0.002      -0.339      -0.080\n",
      "================================================================================\n"
     ]
    }
   ],
   "metadata": {}
  },
  {
   "cell_type": "code",
   "execution_count": 26,
   "source": [
    "#plot\n",
    "plt.figure(figsize = (8,4))\n",
    "sns.regplot(y = 'climate_alliance', x = 'partisanship', data = state_dataset, logistic = True)\n",
    "plt.title('Membership in climate aliiance vs partisanship rating for US States')\n",
    "plt.ylabel('Member in Climate Alliance')\n",
    "plt.xlabel('State Partisanship Score')\n",
    "plt.savefig(FIG_DIR + 'climate_partisanship.png')"
   ],
   "outputs": [
    {
     "output_type": "stream",
     "name": "stderr",
     "text": [
      "/Users/joeskvarna/opt/anaconda3/lib/python3.8/site-packages/statsmodels/genmod/families/family.py:894: RuntimeWarning: invalid value encountered in true_divide\n",
      "  n_endog_mu = self._clean((1. - endog) / (1. - mu))\n",
      "/Users/joeskvarna/opt/anaconda3/lib/python3.8/site-packages/statsmodels/genmod/families/links.py:188: RuntimeWarning: overflow encountered in exp\n",
      "  t = np.exp(-z)\n",
      "/Users/joeskvarna/opt/anaconda3/lib/python3.8/site-packages/statsmodels/genmod/families/family.py:893: RuntimeWarning: invalid value encountered in true_divide\n",
      "  endog_mu = self._clean(endog / mu)\n"
     ]
    },
    {
     "output_type": "display_data",
     "data": {
      "text/plain": [
       "<Figure size 576x288 with 1 Axes>"
      ],
      "image/png": "[encoded data removed]"
     },
     "metadata": {
      "needs_background": "light"
     }
    }
   ],
   "metadata": {}
  },
  {
   "cell_type": "markdown",
   "source": [
    "## 2.3: Climate Alliance and is_democrat"
   ],
   "metadata": {}
  },
  {
   "cell_type": "markdown",
   "source": [
    "### 2.3a: linear"
   ],
   "metadata": {}
  },
  {
   "cell_type": "code",
   "execution_count": 129,
   "source": [
    "model = smf.ols(formula='climate_alliance ~ is_democrat', data = state_dataset)\n",
    "results = model.fit()\n",
    "results.summary()"
   ],
   "outputs": [
    {
     "output_type": "execute_result",
     "data": {
      "text/plain": [
       "<class 'statsmodels.iolib.summary.Summary'>\n",
       "\"\"\"\n",
       "                            OLS Regression Results                            \n",
       "==============================================================================\n",
       "Dep. Variable:       climate_alliance   R-squared:                       0.640\n",
       "Model:                            OLS   Adj. R-squared:                  0.633\n",
       "Method:                 Least Squares   F-statistic:                     85.33\n",
       "Date:                Tue, 04 Jan 2022   Prob (F-statistic):           3.18e-12\n",
       "Time:                        20:23:30   Log-Likelihood:                -10.708\n",
       "No. Observations:                  50   AIC:                             25.42\n",
       "Df Residuals:                      48   BIC:                             29.24\n",
       "Df Model:                           1                                         \n",
       "Covariance Type:            nonrobust                                         \n",
       "===============================================================================\n",
       "                  coef    std err          t      P>|t|      [0.025      0.975]\n",
       "-------------------------------------------------------------------------------\n",
       "Intercept       0.1111      0.059      1.887      0.065      -0.007       0.229\n",
       "is_democrat     0.8019      0.087      9.238      0.000       0.627       0.976\n",
       "==============================================================================\n",
       "Omnibus:                       15.219   Durbin-Watson:                   1.157\n",
       "Prob(Omnibus):                  0.000   Jarque-Bera (JB):               55.538\n",
       "Skew:                           0.420   Prob(JB):                     8.71e-13\n",
       "Kurtosis:                       8.094   Cond. No.                         2.53\n",
       "==============================================================================\n",
       "\n",
       "Notes:\n",
       "[1] Standard Errors assume that the covariance matrix of the errors is correctly specified.\n",
       "\"\"\""
      ],
      "text/html": [
       "<table class=\"simpletable\">\n",
       "<caption>OLS Regression Results</caption>\n",
       "<tr>\n",
       "  <th>Dep. Variable:</th>    <td>climate_alliance</td> <th>  R-squared:         </th> <td>   0.640</td>\n",
       "</tr>\n",
       "<tr>\n",
       "  <th>Model:</th>                   <td>OLS</td>       <th>  Adj. R-squared:    </th> <td>   0.633</td>\n",
       "</tr>\n",
       "<tr>\n",
       "  <th>Method:</th>             <td>Least Squares</td>  <th>  F-statistic:       </th> <td>   85.33</td>\n",
       "</tr>\n",
       "<tr>\n",
       "  <th>Date:</th>             <td>Tue, 04 Jan 2022</td> <th>  Prob (F-statistic):</th> <td>3.18e-12</td>\n",
       "</tr>\n",
       "<tr>\n",
       "  <th>Time:</th>                 <td>20:23:30</td>     <th>  Log-Likelihood:    </th> <td> -10.708</td>\n",
       "</tr>\n",
       "<tr>\n",
       "  <th>No. Observations:</th>      <td>    50</td>      <th>  AIC:               </th> <td>   25.42</td>\n",
       "</tr>\n",
       "<tr>\n",
       "  <th>Df Residuals:</th>          <td>    48</td>      <th>  BIC:               </th> <td>   29.24</td>\n",
       "</tr>\n",
       "<tr>\n",
       "  <th>Df Model:</th>              <td>     1</td>      <th>                     </th>     <td> </td>   \n",
       "</tr>\n",
       "<tr>\n",
       "  <th>Covariance Type:</th>      <td>nonrobust</td>    <th>                     </th>     <td> </td>   \n",
       "</tr>\n",
       "</table>\n",
       "<table class=\"simpletable\">\n",
       "<tr>\n",
       "       <td></td>          <th>coef</th>     <th>std err</th>      <th>t</th>      <th>P>|t|</th>  <th>[0.025</th>    <th>0.975]</th>  \n",
       "</tr>\n",
       "<tr>\n",
       "  <th>Intercept</th>   <td>    0.1111</td> <td>    0.059</td> <td>    1.887</td> <td> 0.065</td> <td>   -0.007</td> <td>    0.229</td>\n",
       "</tr>\n",
       "<tr>\n",
       "  <th>is_democrat</th> <td>    0.8019</td> <td>    0.087</td> <td>    9.238</td> <td> 0.000</td> <td>    0.627</td> <td>    0.976</td>\n",
       "</tr>\n",
       "</table>\n",
       "<table class=\"simpletable\">\n",
       "<tr>\n",
       "  <th>Omnibus:</th>       <td>15.219</td> <th>  Durbin-Watson:     </th> <td>   1.157</td>\n",
       "</tr>\n",
       "<tr>\n",
       "  <th>Prob(Omnibus):</th> <td> 0.000</td> <th>  Jarque-Bera (JB):  </th> <td>  55.538</td>\n",
       "</tr>\n",
       "<tr>\n",
       "  <th>Skew:</th>          <td> 0.420</td> <th>  Prob(JB):          </th> <td>8.71e-13</td>\n",
       "</tr>\n",
       "<tr>\n",
       "  <th>Kurtosis:</th>      <td> 8.094</td> <th>  Cond. No.          </th> <td>    2.53</td>\n",
       "</tr>\n",
       "</table><br/><br/>Notes:<br/>[1] Standard Errors assume that the covariance matrix of the errors is correctly specified."
      ]
     },
     "metadata": {},
     "execution_count": 129
    }
   ],
   "metadata": {}
  },
  {
   "cell_type": "code",
   "execution_count": 92,
   "source": [
    "sns.regplot(y = 'climate_alliance', x = 'is_democrat', data = state_dataset)"
   ],
   "outputs": [
    {
     "output_type": "execute_result",
     "data": {
      "text/plain": [
       "<AxesSubplot:xlabel='is_democrat', ylabel='climate_alliance'>"
      ]
     },
     "metadata": {},
     "execution_count": 92
    },
    {
     "output_type": "display_data",
     "data": {
      "text/plain": [
       "<Figure size 432x288 with 1 Axes>"
      ],
      "image/png": "[encoded data removed]"
     },
     "metadata": {
      "needs_background": "light"
     }
    }
   ],
   "metadata": {}
  },
  {
   "cell_type": "markdown",
   "source": [
    "### 2.3b: Logistic"
   ],
   "metadata": {}
  },
  {
   "cell_type": "markdown",
   "source": [
    "!!!!!! The x axis is showing as continuous rather than binary/categorical"
   ],
   "metadata": {}
  },
  {
   "cell_type": "code",
   "execution_count": 132,
   "source": [
    "#model\n",
    "\n",
    "# defining the dependent and independent variables\n",
    "X = state_dataset[['is_democrat']]\n",
    "y = state_dataset[['climate_alliance']]\n",
    "  \n",
    "# building the model and fitting the data\n",
    "log_reg = sm.Logit(y, X).fit()\n",
    "\n",
    "print(log_reg.summary())"
   ],
   "outputs": [
    {
     "output_type": "stream",
     "name": "stdout",
     "text": [
      "Optimization terminated successfully.\n",
      "         Current function value: 0.510202\n",
      "         Iterations 6\n",
      "                           Logit Regression Results                           \n",
      "==============================================================================\n",
      "Dep. Variable:       climate_alliance   No. Observations:                   50\n",
      "Model:                          Logit   Df Residuals:                       49\n",
      "Method:                           MLE   Df Model:                            0\n",
      "Date:                Tue, 04 Jan 2022   Pseudo R-squ.:                  0.2631\n",
      "Time:                        20:24:42   Log-Likelihood:                -25.510\n",
      "converged:                       True   LL-Null:                       -34.617\n",
      "Covariance Type:            nonrobust   LLR p-value:                       nan\n",
      "===============================================================================\n",
      "                  coef    std err          z      P>|z|      [0.025      0.975]\n",
      "-------------------------------------------------------------------------------\n",
      "is_democrat     2.3514      0.740      3.177      0.001       0.901       3.802\n",
      "===============================================================================\n"
     ]
    }
   ],
   "metadata": {}
  },
  {
   "cell_type": "code",
   "execution_count": 24,
   "source": [
    "#logistic\n",
    "sns.regplot(y = 'climate_alliance', x = 'is_democrat', data = state_dataset, logistic = True)\n",
    "plt.savefig(FIG_DIR + 'climate_democrat.png')"
   ],
   "outputs": [
    {
     "output_type": "display_data",
     "data": {
      "text/plain": [
       "<Figure size 432x288 with 1 Axes>"
      ],
      "image/png": "[encoded data removed]"
     },
     "metadata": {
      "needs_background": "light"
     }
    }
   ],
   "metadata": {}
  },
  {
   "cell_type": "code",
   "execution_count": null,
   "source": [],
   "outputs": [],
   "metadata": {}
  }
 ],
 "metadata": {
  "interpreter": {
   "hash": "4f81b116f3ce7de0ce761b0a60cfad69037d5aec172af081f3d23541584a32cc"
  },
  "kernelspec": {
   "name": "python3",
   "display_name": "Python 3.8.5 64-bit ('base': conda)"
  },
  "language_info": {
   "codemirror_mode": {
    "name": "ipython",
    "version": 3
   },
   "file_extension": ".py",
   "mimetype": "text/x-python",
   "name": "python",
   "nbconvert_exporter": "python",
   "pygments_lexer": "ipython3",
   "version": "3.8.5"
  }
 },
 "nbformat": 4,
 "nbformat_minor": 2
}