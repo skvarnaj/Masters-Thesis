{
 "cells": [
  {
   "cell_type": "markdown",
   "metadata": {},
   "source": [
    "Just a notebook for me to play around and look at possible analysis and visualizations to dive deeper into"
   ]
  },
  {
   "cell_type": "markdown",
   "metadata": {},
   "source": [
    "Visuallizations for the city data"
   ]
  },
  {
   "cell_type": "code",
   "execution_count": 23,
   "metadata": {},
   "outputs": [],
   "source": [
    "from os import path\n",
    "import pandas as pd\n",
    "from pandas import DataFrame\n",
    "import numpy as np\n",
    "import matplotlib.pyplot as plt\n",
    "%matplotlib inline\n",
    "import seaborn as sns\n",
    "import statsmodels.formula.api as smf\n",
    "import statsmodels.api as sm\n",
    "from scipy import stats\n",
    "\n",
    "DATA_DIR = 'Data'\n",
    "FIG_DIR = 'Figures/City/'"
   ]
  },
  {
   "cell_type": "markdown",
   "metadata": {},
   "source": [
    "# 0. Loading and minor preprocessing of dataset"
   ]
  },
  {
   "cell_type": "code",
   "execution_count": 24,
   "metadata": {
    "scrolled": true
   },
   "outputs": [
    {
     "data": {
      "text/html": [
       "<div>\n",
       "<style scoped>\n",
       "    .dataframe tbody tr th:only-of-type {\n",
       "        vertical-align: middle;\n",
       "    }\n",
       "\n",
       "    .dataframe tbody tr th {\n",
       "        vertical-align: top;\n",
       "    }\n",
       "\n",
       "    .dataframe thead th {\n",
       "        text-align: right;\n",
       "    }\n",
       "</style>\n",
       "<table border=\"1\" class=\"dataframe\">\n",
       "  <thead>\n",
       "    <tr style=\"text-align: right;\">\n",
       "      <th></th>\n",
       "      <th>city</th>\n",
       "      <th>mayor_name</th>\n",
       "      <th>CO2_per_cap</th>\n",
       "      <th>plus_minus</th>\n",
       "      <th>conservatism</th>\n",
       "      <th>supports_paris</th>\n",
       "      <th>mayor_political_party</th>\n",
       "      <th>is_democrat</th>\n",
       "    </tr>\n",
       "  </thead>\n",
       "  <tbody>\n",
       "    <tr>\n",
       "      <th>0</th>\n",
       "      <td>Columbus</td>\n",
       "      <td>Andrew Ginther</td>\n",
       "      <td>19.8</td>\n",
       "      <td>8.5</td>\n",
       "      <td>-0.26</td>\n",
       "      <td>1</td>\n",
       "      <td>D</td>\n",
       "      <td>1</td>\n",
       "    </tr>\n",
       "    <tr>\n",
       "      <th>1</th>\n",
       "      <td>Baltimore</td>\n",
       "      <td>Bernard Young</td>\n",
       "      <td>20.2</td>\n",
       "      <td>9.1</td>\n",
       "      <td>-0.66</td>\n",
       "      <td>1</td>\n",
       "      <td>D</td>\n",
       "      <td>1</td>\n",
       "    </tr>\n",
       "    <tr>\n",
       "      <th>2</th>\n",
       "      <td>New York</td>\n",
       "      <td>Bill de Blasio</td>\n",
       "      <td>17.1</td>\n",
       "      <td>5.5</td>\n",
       "      <td>-0.66</td>\n",
       "      <td>1</td>\n",
       "      <td>D</td>\n",
       "      <td>1</td>\n",
       "    </tr>\n",
       "    <tr>\n",
       "      <th>3</th>\n",
       "      <td>Buffalo</td>\n",
       "      <td>Byron Brown</td>\n",
       "      <td>19.8</td>\n",
       "      <td>10.0</td>\n",
       "      <td>-0.66</td>\n",
       "      <td>1</td>\n",
       "      <td>D</td>\n",
       "      <td>1</td>\n",
       "    </tr>\n",
       "    <tr>\n",
       "      <th>4</th>\n",
       "      <td>Las Vegas</td>\n",
       "      <td>Carolyn Goodman</td>\n",
       "      <td>12.3</td>\n",
       "      <td>4.8</td>\n",
       "      <td>-0.03</td>\n",
       "      <td>0</td>\n",
       "      <td>I</td>\n",
       "      <td>0</td>\n",
       "    </tr>\n",
       "  </tbody>\n",
       "</table>\n",
       "</div>"
      ],
      "text/plain": [
       "        city       mayor_name  CO2_per_cap  plus_minus  conservatism  \\\n",
       "0   Columbus   Andrew Ginther         19.8         8.5         -0.26   \n",
       "1  Baltimore    Bernard Young         20.2         9.1         -0.66   \n",
       "2   New York   Bill de Blasio         17.1         5.5         -0.66   \n",
       "3    Buffalo      Byron Brown         19.8        10.0         -0.66   \n",
       "4  Las Vegas  Carolyn Goodman         12.3         4.8         -0.03   \n",
       "\n",
       "   supports_paris mayor_political_party  is_democrat  \n",
       "0               1                     D            1  \n",
       "1               1                     D            1  \n",
       "2               1                     D            1  \n",
       "3               1                     D            1  \n",
       "4               0                     I            0  "
      ]
     },
     "execution_count": 24,
     "metadata": {},
     "output_type": "execute_result"
    }
   ],
   "source": [
    "#main dataset\n",
    "city_dataset = pd.read_csv(path.join(DATA_DIR, 'city_dataset.csv'))\n",
    "city_dataset[['supports_paris']] = city_dataset[['supports_paris']].astype(int)\n",
    "city_dataset[['is_democrat']] = (city_dataset[['mayor_political_party']] == 'D').astype(int)\n",
    "city_dataset.head()"
   ]
  },
  {
   "cell_type": "code",
   "execution_count": 25,
   "metadata": {},
   "outputs": [
    {
     "data": {
      "text/html": [
       "<div>\n",
       "<style scoped>\n",
       "    .dataframe tbody tr th:only-of-type {\n",
       "        vertical-align: middle;\n",
       "    }\n",
       "\n",
       "    .dataframe tbody tr th {\n",
       "        vertical-align: top;\n",
       "    }\n",
       "\n",
       "    .dataframe thead th {\n",
       "        text-align: right;\n",
       "    }\n",
       "</style>\n",
       "<table border=\"1\" class=\"dataframe\">\n",
       "  <thead>\n",
       "    <tr style=\"text-align: right;\">\n",
       "      <th></th>\n",
       "      <th>CO2_per_cap</th>\n",
       "      <th>plus_minus</th>\n",
       "      <th>conservatism</th>\n",
       "      <th>is_democrat</th>\n",
       "      <th>supports_paris</th>\n",
       "    </tr>\n",
       "  </thead>\n",
       "  <tbody>\n",
       "    <tr>\n",
       "      <th>0</th>\n",
       "      <td>0.337421</td>\n",
       "      <td>0.472098</td>\n",
       "      <td>0.212022</td>\n",
       "      <td>1</td>\n",
       "      <td>1</td>\n",
       "    </tr>\n",
       "    <tr>\n",
       "      <th>1</th>\n",
       "      <td>0.456781</td>\n",
       "      <td>0.717998</td>\n",
       "      <td>-1.144919</td>\n",
       "      <td>1</td>\n",
       "      <td>1</td>\n",
       "    </tr>\n",
       "    <tr>\n",
       "      <th>2</th>\n",
       "      <td>-0.468258</td>\n",
       "      <td>-0.757405</td>\n",
       "      <td>-1.144919</td>\n",
       "      <td>1</td>\n",
       "      <td>1</td>\n",
       "    </tr>\n",
       "    <tr>\n",
       "      <th>3</th>\n",
       "      <td>0.337421</td>\n",
       "      <td>1.086849</td>\n",
       "      <td>-1.144919</td>\n",
       "      <td>1</td>\n",
       "      <td>1</td>\n",
       "    </tr>\n",
       "    <tr>\n",
       "      <th>4</th>\n",
       "      <td>-1.900578</td>\n",
       "      <td>-1.044289</td>\n",
       "      <td>0.992263</td>\n",
       "      <td>1</td>\n",
       "      <td>0</td>\n",
       "    </tr>\n",
       "  </tbody>\n",
       "</table>\n",
       "</div>"
      ],
      "text/plain": [
       "   CO2_per_cap  plus_minus  conservatism  is_democrat  supports_paris\n",
       "0     0.337421    0.472098      0.212022            1               1\n",
       "1     0.456781    0.717998     -1.144919            1               1\n",
       "2    -0.468258   -0.757405     -1.144919            1               1\n",
       "3     0.337421    1.086849     -1.144919            1               1\n",
       "4    -1.900578   -1.044289      0.992263            1               0"
      ]
     },
     "execution_count": 25,
     "metadata": {},
     "output_type": "execute_result"
    }
   ],
   "source": [
    "#standardized dataset (for z scores)\n",
    "\n",
    "city_dataset['is_democrat'] = city_dataset['mayor_political_party'].astype('bool')\n",
    "city_dataset['supports_paris'] = city_dataset['supports_paris'].astype('bool')\n",
    "city_z = city_dataset.select_dtypes(include=[np.number]).dropna().apply(stats.zscore)\n",
    "city_z['is_democrat'] = city_dataset['is_democrat']\n",
    "city_z['supports_paris'] = city_dataset['supports_paris']\n",
    "city_z['is_democrat'] = city_z['is_democrat'].astype('int')\n",
    "city_z['supports_paris'] = city_z['supports_paris'].astype('int')\n",
    "city_z.head()"
   ]
  },
  {
   "cell_type": "code",
   "execution_count": 26,
   "metadata": {
    "scrolled": true
   },
   "outputs": [
    {
     "data": {
      "text/html": [
       "<div>\n",
       "<style scoped>\n",
       "    .dataframe tbody tr th:only-of-type {\n",
       "        vertical-align: middle;\n",
       "    }\n",
       "\n",
       "    .dataframe tbody tr th {\n",
       "        vertical-align: top;\n",
       "    }\n",
       "\n",
       "    .dataframe thead th {\n",
       "        text-align: right;\n",
       "    }\n",
       "</style>\n",
       "<table border=\"1\" class=\"dataframe\">\n",
       "  <thead>\n",
       "    <tr style=\"text-align: right;\">\n",
       "      <th></th>\n",
       "      <th>CO2_per_cap</th>\n",
       "      <th>plus_minus</th>\n",
       "      <th>conservatism</th>\n",
       "    </tr>\n",
       "  </thead>\n",
       "  <tbody>\n",
       "    <tr>\n",
       "      <th>count</th>\n",
       "      <td>52.000000</td>\n",
       "      <td>52.000000</td>\n",
       "      <td>52.000000</td>\n",
       "    </tr>\n",
       "    <tr>\n",
       "      <th>mean</th>\n",
       "      <td>18.669231</td>\n",
       "      <td>7.348077</td>\n",
       "      <td>-0.322500</td>\n",
       "    </tr>\n",
       "    <tr>\n",
       "      <th>std</th>\n",
       "      <td>3.383903</td>\n",
       "      <td>2.463816</td>\n",
       "      <td>0.297657</td>\n",
       "    </tr>\n",
       "    <tr>\n",
       "      <th>min</th>\n",
       "      <td>12.300000</td>\n",
       "      <td>3.200000</td>\n",
       "      <td>-0.930000</td>\n",
       "    </tr>\n",
       "    <tr>\n",
       "      <th>25%</th>\n",
       "      <td>15.975000</td>\n",
       "      <td>5.100000</td>\n",
       "      <td>-0.520000</td>\n",
       "    </tr>\n",
       "    <tr>\n",
       "      <th>50%</th>\n",
       "      <td>18.850000</td>\n",
       "      <td>7.450000</td>\n",
       "      <td>-0.305000</td>\n",
       "    </tr>\n",
       "    <tr>\n",
       "      <th>75%</th>\n",
       "      <td>20.875000</td>\n",
       "      <td>9.000000</td>\n",
       "      <td>-0.092500</td>\n",
       "    </tr>\n",
       "    <tr>\n",
       "      <th>max</th>\n",
       "      <td>26.100000</td>\n",
       "      <td>13.500000</td>\n",
       "      <td>0.260000</td>\n",
       "    </tr>\n",
       "  </tbody>\n",
       "</table>\n",
       "</div>"
      ],
      "text/plain": [
       "       CO2_per_cap  plus_minus  conservatism\n",
       "count    52.000000   52.000000     52.000000\n",
       "mean     18.669231    7.348077     -0.322500\n",
       "std       3.383903    2.463816      0.297657\n",
       "min      12.300000    3.200000     -0.930000\n",
       "25%      15.975000    5.100000     -0.520000\n",
       "50%      18.850000    7.450000     -0.305000\n",
       "75%      20.875000    9.000000     -0.092500\n",
       "max      26.100000   13.500000      0.260000"
      ]
     },
     "execution_count": 26,
     "metadata": {},
     "output_type": "execute_result"
    }
   ],
   "source": [
    "city_dataset.describe()"
   ]
  },
  {
   "cell_type": "code",
   "execution_count": 27,
   "metadata": {},
   "outputs": [
    {
     "data": {
      "text/plain": [
       "1.0"
      ]
     },
     "execution_count": 27,
     "metadata": {},
     "output_type": "execute_result"
    }
   ],
   "source": [
    "# get medians\n",
    "\n",
    "city_dataset['supports_paris'].median()"
   ]
  },
  {
   "cell_type": "markdown",
   "metadata": {},
   "source": [
    "# 1. CO2 Model"
   ]
  },
  {
   "cell_type": "markdown",
   "metadata": {},
   "source": [
    "## 1.1 Full linear model"
   ]
  },
  {
   "cell_type": "code",
   "execution_count": 28,
   "metadata": {
    "scrolled": true
   },
   "outputs": [
    {
     "name": "stdout",
     "output_type": "stream",
     "text": [
      "                            OLS Regression Results                            \n",
      "==============================================================================\n",
      "Dep. Variable:            CO2_per_cap   R-squared:                       0.057\n",
      "Model:                            OLS   Adj. R-squared:                  0.038\n",
      "Method:                 Least Squares   F-statistic:                     2.998\n",
      "Date:                Fri, 20 May 2022   Prob (F-statistic):             0.0896\n",
      "Time:                        17:11:49   Log-Likelihood:                -135.16\n",
      "No. Observations:                  52   AIC:                             274.3\n",
      "Df Residuals:                      50   BIC:                             278.2\n",
      "Df Model:                           1                                         \n",
      "Covariance Type:            nonrobust                                         \n",
      "=======================================================================================\n",
      "                          coef    std err          t      P>|t|      [0.025      0.975]\n",
      "---------------------------------------------------------------------------------------\n",
      "Intercept               8.8986      0.341     26.084      0.000       8.213       9.584\n",
      "is_democrat[T.True]     8.8986      0.341     26.084      0.000       8.213       9.584\n",
      "conservatism           -2.7037      1.562     -1.731      0.090      -5.840       0.433\n",
      "==============================================================================\n",
      "Omnibus:                        6.168   Durbin-Watson:                   2.011\n",
      "Prob(Omnibus):                  0.046   Jarque-Bera (JB):                2.846\n",
      "Skew:                           0.293   Prob(JB):                        0.241\n",
      "Kurtosis:                       2.015   Cond. No.                     4.35e+15\n",
      "==============================================================================\n",
      "\n",
      "Notes:\n",
      "[1] Standard Errors assume that the covariance matrix of the errors is correctly specified.\n",
      "[2] The smallest eigenvalue is 5.81e-30. This might indicate that there are\n",
      "strong multicollinearity problems or that the design matrix is singular.\n"
     ]
    }
   ],
   "source": [
    "model = smf.ols(formula='CO2_per_cap ~ conservatism + is_democrat', data=city_dataset)\n",
    "results = model.fit()\n",
    "print(results.summary())"
   ]
  },
  {
   "cell_type": "code",
   "execution_count": 29,
   "metadata": {},
   "outputs": [
    {
     "name": "stdout",
     "output_type": "stream",
     "text": [
      "                            OLS Regression Results                            \n",
      "==============================================================================\n",
      "Dep. Variable:            CO2_per_cap   R-squared:                       0.057\n",
      "Model:                            OLS   Adj. R-squared:                  0.038\n",
      "Method:                 Least Squares   F-statistic:                     2.998\n",
      "Date:                Fri, 20 May 2022   Prob (F-statistic):             0.0896\n",
      "Time:                        17:11:49   Log-Likelihood:                -72.271\n",
      "No. Observations:                  52   AIC:                             148.5\n",
      "Df Residuals:                      50   BIC:                             152.4\n",
      "Df Model:                           1                                         \n",
      "Covariance Type:            nonrobust                                         \n",
      "================================================================================\n",
      "                   coef    std err          t      P>|t|      [0.025      0.975]\n",
      "--------------------------------------------------------------------------------\n",
      "Intercept     6.627e-16      0.069   9.65e-15      1.000      -0.138       0.138\n",
      "conservatism    -0.2378      0.137     -1.731      0.090      -0.514       0.038\n",
      "is_democrat   6.817e-16      0.069   9.93e-15      1.000      -0.138       0.138\n",
      "==============================================================================\n",
      "Omnibus:                        6.168   Durbin-Watson:                   2.011\n",
      "Prob(Omnibus):                  0.046   Jarque-Bera (JB):                2.846\n",
      "Skew:                           0.293   Prob(JB):                        0.241\n",
      "Kurtosis:                       2.015   Cond. No.                     4.55e+15\n",
      "==============================================================================\n",
      "\n",
      "Notes:\n",
      "[1] Standard Errors assume that the covariance matrix of the errors is correctly specified.\n",
      "[2] The smallest eigenvalue is 5.02e-30. This might indicate that there are\n",
      "strong multicollinearity problems or that the design matrix is singular.\n"
     ]
    }
   ],
   "source": [
    "#standardized model\n",
    "model = smf.ols(formula='CO2_per_cap ~ conservatism + is_democrat', data=city_z)\n",
    "results = model.fit()\n",
    "print(results.summary())"
   ]
  },
  {
   "cell_type": "markdown",
   "metadata": {},
   "source": [
    "## 1.2 CO2 per cap and conservatism"
   ]
  },
  {
   "cell_type": "code",
   "execution_count": 30,
   "metadata": {
    "scrolled": true
   },
   "outputs": [
    {
     "name": "stdout",
     "output_type": "stream",
     "text": [
      "                            OLS Regression Results                            \n",
      "==============================================================================\n",
      "Dep. Variable:            CO2_per_cap   R-squared:                       0.057\n",
      "Model:                            OLS   Adj. R-squared:                  0.038\n",
      "Method:                 Least Squares   F-statistic:                     2.998\n",
      "Date:                Fri, 20 May 2022   Prob (F-statistic):             0.0896\n",
      "Time:                        17:11:50   Log-Likelihood:                -135.16\n",
      "No. Observations:                  52   AIC:                             274.3\n",
      "Df Residuals:                      50   BIC:                             278.2\n",
      "Df Model:                           1                                         \n",
      "Covariance Type:            nonrobust                                         \n",
      "================================================================================\n",
      "                   coef    std err          t      P>|t|      [0.025      0.975]\n",
      "--------------------------------------------------------------------------------\n",
      "Intercept       17.7973      0.682     26.084      0.000      16.427      19.168\n",
      "conservatism    -2.7037      1.562     -1.731      0.090      -5.840       0.433\n",
      "==============================================================================\n",
      "Omnibus:                        6.168   Durbin-Watson:                   2.011\n",
      "Prob(Omnibus):                  0.046   Jarque-Bera (JB):                2.846\n",
      "Skew:                           0.293   Prob(JB):                        0.241\n",
      "Kurtosis:                       2.015   Cond. No.                         3.78\n",
      "==============================================================================\n",
      "\n",
      "Notes:\n",
      "[1] Standard Errors assume that the covariance matrix of the errors is correctly specified.\n"
     ]
    }
   ],
   "source": [
    "model1 = smf.ols(formula='CO2_per_cap ~ conservatism', data=city_dataset)\n",
    "results1 = model1.fit()\n",
    "print(results1.summary())"
   ]
  },
  {
   "cell_type": "code",
   "execution_count": 31,
   "metadata": {},
   "outputs": [
    {
     "name": "stdout",
     "output_type": "stream",
     "text": [
      "                            OLS Regression Results                            \n",
      "==============================================================================\n",
      "Dep. Variable:            CO2_per_cap   R-squared:                       0.057\n",
      "Model:                            OLS   Adj. R-squared:                  0.038\n",
      "Method:                 Least Squares   F-statistic:                     2.998\n",
      "Date:                Fri, 20 May 2022   Prob (F-statistic):             0.0896\n",
      "Time:                        17:11:50   Log-Likelihood:                -72.271\n",
      "No. Observations:                  52   AIC:                             148.5\n",
      "Df Residuals:                      50   BIC:                             152.4\n",
      "Df Model:                           1                                         \n",
      "Covariance Type:            nonrobust                                         \n",
      "================================================================================\n",
      "                   coef    std err          t      P>|t|      [0.025      0.975]\n",
      "--------------------------------------------------------------------------------\n",
      "Intercept     1.329e-15      0.137   9.67e-15      1.000      -0.276       0.276\n",
      "conservatism    -0.2378      0.137     -1.731      0.090      -0.514       0.038\n",
      "==============================================================================\n",
      "Omnibus:                        6.168   Durbin-Watson:                   2.011\n",
      "Prob(Omnibus):                  0.046   Jarque-Bera (JB):                2.846\n",
      "Skew:                           0.293   Prob(JB):                        0.241\n",
      "Kurtosis:                       2.015   Cond. No.                         1.00\n",
      "==============================================================================\n",
      "\n",
      "Notes:\n",
      "[1] Standard Errors assume that the covariance matrix of the errors is correctly specified.\n"
     ]
    }
   ],
   "source": [
    "#Standardized\n",
    "model1 = smf.ols(formula='CO2_per_cap ~ conservatism', data=city_z)\n",
    "results1 = model1.fit()\n",
    "print(results1.summary())"
   ]
  },
  {
   "cell_type": "code",
   "execution_count": 32,
   "metadata": {},
   "outputs": [
    {
     "data": {
      "image/png": "[encoded data removed]",
      "text/plain": [
       "<Figure size 432x288 with 1 Axes>"
      ]
     },
     "metadata": {
      "needs_background": "light"
     },
     "output_type": "display_data"
    }
   ],
   "source": [
    "sns.regplot(y = 'CO2_per_cap', x = 'conservatism', data = city_dataset)\n",
    "plt.savefig(FIG_DIR + 'CO2_conservatism.png')"
   ]
  },
  {
   "cell_type": "markdown",
   "metadata": {},
   "source": [
    "## 1.3 CO2 per cap and supports paris"
   ]
  },
  {
   "cell_type": "code",
   "execution_count": 33,
   "metadata": {},
   "outputs": [
    {
     "name": "stdout",
     "output_type": "stream",
     "text": [
      "                   Results: Ordinary least squares\n",
      "======================================================================\n",
      "Model:                 OLS               Adj. R-squared:      0.004   \n",
      "Dependent Variable:    CO2_per_cap       AIC:                 276.1109\n",
      "Date:                  2022-05-20 17:11  BIC:                 280.0134\n",
      "No. Observations:      52                Log-Likelihood:      -136.06 \n",
      "Df Model:              1                 F-statistic:         1.195   \n",
      "Df Residuals:          50                Prob (F-statistic):  0.280   \n",
      "R-squared:             0.023             Scale:               11.407  \n",
      "----------------------------------------------------------------------\n",
      "                        Coef.  Std.Err.    t    P>|t|   [0.025  0.975]\n",
      "----------------------------------------------------------------------\n",
      "Intercept              17.6200   1.0680 16.4974 0.0000 15.4748 19.7652\n",
      "supports_paris[T.True]  1.2990   1.1884  1.0931 0.2796 -1.0879  3.6860\n",
      "----------------------------------------------------------------------\n",
      "Omnibus:                 4.611         Durbin-Watson:            1.993\n",
      "Prob(Omnibus):           0.100         Jarque-Bera (JB):         2.453\n",
      "Skew:                    0.278         Prob(JB):                 0.293\n",
      "Kurtosis:                2.093         Condition No.:            4    \n",
      "======================================================================\n",
      "\n"
     ]
    }
   ],
   "source": [
    "model2 = smf.ols(formula='CO2_per_cap ~ supports_paris', data=city_dataset)\n",
    "results2 = model2.fit()\n",
    "print(results2.summary2())"
   ]
  },
  {
   "cell_type": "code",
   "execution_count": 34,
   "metadata": {},
   "outputs": [
    {
     "data": {
      "image/png": "[encoded data removed]",
      "text/plain": [
       "<Figure size 432x288 with 1 Axes>"
      ]
     },
     "metadata": {
      "needs_background": "light"
     },
     "output_type": "display_data"
    }
   ],
   "source": [
    "sns.regplot(y = 'CO2_per_cap', x = 'supports_paris', data = city_dataset)\n",
    "plt.savefig(FIG_DIR + 'CO2_supportparis.png')"
   ]
  },
  {
   "cell_type": "markdown",
   "metadata": {},
   "source": [
    "## 1.4. CO2 per cap and is_democrat"
   ]
  },
  {
   "cell_type": "code",
   "execution_count": 35,
   "metadata": {
    "scrolled": false
   },
   "outputs": [
    {
     "name": "stdout",
     "output_type": "stream",
     "text": [
      "                            OLS Regression Results                            \n",
      "==============================================================================\n",
      "Dep. Variable:            CO2_per_cap   R-squared:                       0.000\n",
      "Model:                            OLS   Adj. R-squared:                  0.000\n",
      "Method:                 Least Squares   F-statistic:                       nan\n",
      "Date:                Fri, 20 May 2022   Prob (F-statistic):                nan\n",
      "Time:                        17:11:51   Log-Likelihood:                -136.67\n",
      "No. Observations:                  52   AIC:                             275.3\n",
      "Df Residuals:                      51   BIC:                             277.3\n",
      "Df Model:                           0                                         \n",
      "Covariance Type:            nonrobust                                         \n",
      "=======================================================================================\n",
      "                          coef    std err          t      P>|t|      [0.025      0.975]\n",
      "---------------------------------------------------------------------------------------\n",
      "Intercept               9.3346      0.235     39.784      0.000       8.864       9.806\n",
      "is_democrat[T.True]     9.3346      0.235     39.784      0.000       8.864       9.806\n",
      "==============================================================================\n",
      "Omnibus:                        2.546   Durbin-Watson:                   2.012\n",
      "Prob(Omnibus):                  0.280   Jarque-Bera (JB):                1.803\n",
      "Skew:                           0.260   Prob(JB):                        0.406\n",
      "Kurtosis:                       2.250   Cond. No.                     4.55e+15\n",
      "==============================================================================\n",
      "\n",
      "Notes:\n",
      "[1] Standard Errors assume that the covariance matrix of the errors is correctly specified.\n",
      "[2] The smallest eigenvalue is 5.03e-30. This might indicate that there are\n",
      "strong multicollinearity problems or that the design matrix is singular.\n"
     ]
    }
   ],
   "source": [
    "model3 = smf.ols(formula='CO2_per_cap ~ is_democrat', data=city_dataset)\n",
    "results3 = model3.fit()\n",
    "print(results3.summary())"
   ]
  },
  {
   "cell_type": "code",
   "execution_count": 36,
   "metadata": {},
   "outputs": [
    {
     "name": "stdout",
     "output_type": "stream",
     "text": [
      "                            OLS Regression Results                            \n",
      "==============================================================================\n",
      "Dep. Variable:            CO2_per_cap   R-squared:                      -0.000\n",
      "Model:                            OLS   Adj. R-squared:                 -0.000\n",
      "Method:                 Least Squares   F-statistic:                       nan\n",
      "Date:                Fri, 20 May 2022   Prob (F-statistic):                nan\n",
      "Time:                        17:11:51   Log-Likelihood:                -73.785\n",
      "No. Observations:                  52   AIC:                             149.6\n",
      "Df Residuals:                      51   BIC:                             151.5\n",
      "Df Model:                           0                                         \n",
      "Covariance Type:            nonrobust                                         \n",
      "===============================================================================\n",
      "                  coef    std err          t      P>|t|      [0.025      0.975]\n",
      "-------------------------------------------------------------------------------\n",
      "Intercept    6.713e-16      0.070   9.59e-15      1.000      -0.141       0.141\n",
      "is_democrat  6.731e-16      0.070   9.61e-15      1.000      -0.141       0.141\n",
      "==============================================================================\n",
      "Omnibus:                        2.546   Durbin-Watson:                   2.012\n",
      "Prob(Omnibus):                  0.280   Jarque-Bera (JB):                1.803\n",
      "Skew:                           0.260   Prob(JB):                        0.406\n",
      "Kurtosis:                       2.250   Cond. No.                     4.55e+15\n",
      "==============================================================================\n",
      "\n",
      "Notes:\n",
      "[1] Standard Errors assume that the covariance matrix of the errors is correctly specified.\n",
      "[2] The smallest eigenvalue is 5.03e-30. This might indicate that there are\n",
      "strong multicollinearity problems or that the design matrix is singular.\n"
     ]
    }
   ],
   "source": [
    "#standardized\n",
    "model3 = smf.ols(formula='CO2_per_cap ~ is_democrat', data=city_z)\n",
    "results3 = model3.fit()\n",
    "print(results3.summary())"
   ]
  },
  {
   "cell_type": "code",
   "execution_count": 37,
   "metadata": {},
   "outputs": [
    {
     "data": {
      "image/png": "[encoded data removed]",
      "text/plain": [
       "<Figure size 432x288 with 1 Axes>"
      ]
     },
     "metadata": {
      "needs_background": "light"
     },
     "output_type": "display_data"
    }
   ],
   "source": [
    "sns.regplot(y = 'CO2_per_cap', x = 'is_democrat', data = city_dataset)\n",
    "plt.savefig(FIG_DIR + 'CO2_democrat.png')"
   ]
  },
  {
   "cell_type": "markdown",
   "metadata": {},
   "source": [
    "# 2. Supports Paris Model"
   ]
  },
  {
   "cell_type": "markdown",
   "metadata": {},
   "source": [
    "## 2.1. Full model"
   ]
  },
  {
   "cell_type": "markdown",
   "metadata": {},
   "source": [
    "### 2.1a: linear"
   ]
  },
  {
   "cell_type": "code",
   "execution_count": 38,
   "metadata": {},
   "outputs": [
    {
     "ename": "ValueError",
     "evalue": "endog has evaluated to an array with multiple columns that has shape (52, 2). This occurs when the variable converted to endog is non-numeric (e.g., bool or str).",
     "output_type": "error",
     "traceback": [
      "\u001b[0;31m---------------------------------------------------------------------------\u001b[0m",
      "\u001b[0;31mValueError\u001b[0m                                Traceback (most recent call last)",
      "\u001b[0;32m<ipython-input-38-ef7184c9c572>\u001b[0m in \u001b[0;36m<module>\u001b[0;34m\u001b[0m\n\u001b[0;32m----> 1\u001b[0;31m \u001b[0mmodel7\u001b[0m \u001b[0;34m=\u001b[0m \u001b[0msmf\u001b[0m\u001b[0;34m.\u001b[0m\u001b[0mols\u001b[0m\u001b[0;34m(\u001b[0m\u001b[0mformula\u001b[0m\u001b[0;34m=\u001b[0m\u001b[0;34m'supports_paris ~ is_democrat + conservatism'\u001b[0m\u001b[0;34m,\u001b[0m \u001b[0mdata\u001b[0m\u001b[0;34m=\u001b[0m\u001b[0mcity_dataset\u001b[0m\u001b[0;34m)\u001b[0m\u001b[0;34m\u001b[0m\u001b[0;34m\u001b[0m\u001b[0m\n\u001b[0m\u001b[1;32m      2\u001b[0m \u001b[0mresults7\u001b[0m \u001b[0;34m=\u001b[0m \u001b[0mmodel7\u001b[0m\u001b[0;34m.\u001b[0m\u001b[0mfit\u001b[0m\u001b[0;34m(\u001b[0m\u001b[0;34m)\u001b[0m\u001b[0;34m\u001b[0m\u001b[0;34m\u001b[0m\u001b[0m\n\u001b[1;32m      3\u001b[0m \u001b[0mprint\u001b[0m\u001b[0;34m(\u001b[0m\u001b[0mresults7\u001b[0m\u001b[0;34m.\u001b[0m\u001b[0msummary\u001b[0m\u001b[0;34m(\u001b[0m\u001b[0;34m)\u001b[0m\u001b[0;34m)\u001b[0m\u001b[0;34m\u001b[0m\u001b[0;34m\u001b[0m\u001b[0m\n",
      "\u001b[0;32m~/opt/anaconda3/lib/python3.8/site-packages/statsmodels/base/model.py\u001b[0m in \u001b[0;36mfrom_formula\u001b[0;34m(cls, formula, data, subset, drop_cols, *args, **kwargs)\u001b[0m\n\u001b[1;32m    173\u001b[0m         if (max_endog is not None and\n\u001b[1;32m    174\u001b[0m                 endog.ndim > 1 and endog.shape[1] > max_endog):\n\u001b[0;32m--> 175\u001b[0;31m             raise ValueError('endog has evaluated to an array with multiple '\n\u001b[0m\u001b[1;32m    176\u001b[0m                              \u001b[0;34m'columns that has shape {0}. This occurs when '\u001b[0m\u001b[0;34m\u001b[0m\u001b[0;34m\u001b[0m\u001b[0m\n\u001b[1;32m    177\u001b[0m                              \u001b[0;34m'the variable converted to endog is non-numeric'\u001b[0m\u001b[0;34m\u001b[0m\u001b[0;34m\u001b[0m\u001b[0m\n",
      "\u001b[0;31mValueError\u001b[0m: endog has evaluated to an array with multiple columns that has shape (52, 2). This occurs when the variable converted to endog is non-numeric (e.g., bool or str)."
     ]
    }
   ],
   "source": [
    "model7 = smf.ols(formula='supports_paris ~ is_democrat + conservatism', data=city_dataset)\n",
    "results7 = model7.fit()\n",
    "print(results7.summary())"
   ]
  },
  {
   "cell_type": "markdown",
   "metadata": {},
   "source": [
    "### 2.1b: Logistic"
   ]
  },
  {
   "cell_type": "markdown",
   "metadata": {},
   "source": [
    "## 2.2. Supports Paris and conservatism"
   ]
  },
  {
   "cell_type": "markdown",
   "metadata": {},
   "source": [
    "### 2.2a: linear"
   ]
  },
  {
   "cell_type": "code",
   "execution_count": 39,
   "metadata": {},
   "outputs": [
    {
     "ename": "ValueError",
     "evalue": "endog has evaluated to an array with multiple columns that has shape (52, 2). This occurs when the variable converted to endog is non-numeric (e.g., bool or str).",
     "output_type": "error",
     "traceback": [
      "\u001b[0;31m---------------------------------------------------------------------------\u001b[0m",
      "\u001b[0;31mValueError\u001b[0m                                Traceback (most recent call last)",
      "\u001b[0;32m<ipython-input-39-8514c4b882a6>\u001b[0m in \u001b[0;36m<module>\u001b[0;34m\u001b[0m\n\u001b[0;32m----> 1\u001b[0;31m \u001b[0mmodel5\u001b[0m \u001b[0;34m=\u001b[0m \u001b[0msmf\u001b[0m\u001b[0;34m.\u001b[0m\u001b[0mols\u001b[0m\u001b[0;34m(\u001b[0m\u001b[0mformula\u001b[0m\u001b[0;34m=\u001b[0m\u001b[0;34m'supports_paris ~ conservatism'\u001b[0m\u001b[0;34m,\u001b[0m \u001b[0mdata\u001b[0m\u001b[0;34m=\u001b[0m\u001b[0mcity_dataset\u001b[0m\u001b[0;34m)\u001b[0m\u001b[0;34m\u001b[0m\u001b[0;34m\u001b[0m\u001b[0m\n\u001b[0m\u001b[1;32m      2\u001b[0m \u001b[0mresults5\u001b[0m \u001b[0;34m=\u001b[0m \u001b[0mmodel5\u001b[0m\u001b[0;34m.\u001b[0m\u001b[0mfit\u001b[0m\u001b[0;34m(\u001b[0m\u001b[0;34m)\u001b[0m\u001b[0;34m\u001b[0m\u001b[0;34m\u001b[0m\u001b[0m\n\u001b[1;32m      3\u001b[0m \u001b[0mresults5\u001b[0m\u001b[0;34m.\u001b[0m\u001b[0msummary\u001b[0m\u001b[0;34m(\u001b[0m\u001b[0;34m)\u001b[0m\u001b[0;34m\u001b[0m\u001b[0;34m\u001b[0m\u001b[0m\n",
      "\u001b[0;32m~/opt/anaconda3/lib/python3.8/site-packages/statsmodels/base/model.py\u001b[0m in \u001b[0;36mfrom_formula\u001b[0;34m(cls, formula, data, subset, drop_cols, *args, **kwargs)\u001b[0m\n\u001b[1;32m    173\u001b[0m         if (max_endog is not None and\n\u001b[1;32m    174\u001b[0m                 endog.ndim > 1 and endog.shape[1] > max_endog):\n\u001b[0;32m--> 175\u001b[0;31m             raise ValueError('endog has evaluated to an array with multiple '\n\u001b[0m\u001b[1;32m    176\u001b[0m                              \u001b[0;34m'columns that has shape {0}. This occurs when '\u001b[0m\u001b[0;34m\u001b[0m\u001b[0;34m\u001b[0m\u001b[0m\n\u001b[1;32m    177\u001b[0m                              \u001b[0;34m'the variable converted to endog is non-numeric'\u001b[0m\u001b[0;34m\u001b[0m\u001b[0;34m\u001b[0m\u001b[0m\n",
      "\u001b[0;31mValueError\u001b[0m: endog has evaluated to an array with multiple columns that has shape (52, 2). This occurs when the variable converted to endog is non-numeric (e.g., bool or str)."
     ]
    }
   ],
   "source": [
    "model5 = smf.ols(formula='supports_paris ~ conservatism', data=city_dataset)\n",
    "results5 = model5.fit()\n",
    "results5.summary()"
   ]
  },
  {
   "cell_type": "code",
   "execution_count": 40,
   "metadata": {},
   "outputs": [
    {
     "data": {
      "text/plain": [
       "<AxesSubplot:xlabel='conservatism', ylabel='supports_paris'>"
      ]
     },
     "execution_count": 40,
     "metadata": {},
     "output_type": "execute_result"
    },
    {
     "data": {
      "image/png": "[encoded data removed]",
      "text/plain": [
       "<Figure size 432x288 with 1 Axes>"
      ]
     },
     "metadata": {
      "needs_background": "light"
     },
     "output_type": "display_data"
    }
   ],
   "source": [
    "sns.regplot(y = 'supports_paris', x = 'conservatism', data = city_dataset)"
   ]
  },
  {
   "cell_type": "markdown",
   "metadata": {},
   "source": [
    "### 2.2b: logistic"
   ]
  },
  {
   "cell_type": "code",
   "execution_count": 41,
   "metadata": {
    "scrolled": true
   },
   "outputs": [
    {
     "name": "stdout",
     "output_type": "stream",
     "text": [
      "Optimization terminated successfully.\n",
      "         Current function value: 0.144526\n",
      "         Iterations: 11\n",
      "         Function evaluations: 13\n",
      "         Gradient evaluations: 13\n",
      "                           Logit Regression Results                           \n",
      "==============================================================================\n",
      "Dep. Variable:         supports_paris   No. Observations:                   52\n",
      "Model:                          Logit   Df Residuals:                       51\n",
      "Method:                           MLE   Df Model:                            0\n",
      "Date:                Fri, 20 May 2022   Pseudo R-squ.:                  0.7048\n",
      "Time:                        17:11:57   Log-Likelihood:                -7.5153\n",
      "converged:                       True   LL-Null:                       -25.457\n",
      "Covariance Type:            nonrobust   LLR p-value:                       nan\n",
      "================================================================================\n",
      "                   coef    std err          z      P>|z|      [0.025      0.975]\n",
      "--------------------------------------------------------------------------------\n",
      "conservatism   -21.5132      9.183     -2.343      0.019     -39.511      -3.516\n",
      "================================================================================\n",
      "\n",
      "Possibly complete quasi-separation: A fraction 0.38 of observations can be\n",
      "perfectly predicted. This might indicate that there is complete\n",
      "quasi-separation. In this case some parameters will not be identified.\n"
     ]
    }
   ],
   "source": [
    "# defining the dependent and independent variables\n",
    "X = city_dataset[['conservatism']]\n",
    "y = city_dataset[['supports_paris']]\n",
    "  \n",
    "# building the model and fitting the data\n",
    "log_reg = sm.Logit(y, X).fit(method = 'bfgs')\n",
    "\n",
    "print(log_reg.summary())"
   ]
  },
  {
   "cell_type": "code",
   "execution_count": 42,
   "metadata": {},
   "outputs": [
    {
     "name": "stdout",
     "output_type": "stream",
     "text": [
      "                        5%       95%    Odds Ratio\n",
      "conservatism  6.929649e-18  0.029727  4.538681e-10\n"
     ]
    }
   ],
   "source": [
    "#get odds ratio\n",
    "params = log_reg.params\n",
    "conf = log_reg.conf_int()\n",
    "conf['Odds Ratio'] = params\n",
    "conf.columns = ['5%', '95%', 'Odds Ratio']\n",
    "print(np.exp(conf))"
   ]
  },
  {
   "cell_type": "code",
   "execution_count": 43,
   "metadata": {
    "scrolled": true
   },
   "outputs": [
    {
     "name": "stdout",
     "output_type": "stream",
     "text": [
      "Optimization terminated successfully.\n",
      "         Current function value: 0.547441\n",
      "         Iterations: 6\n",
      "         Function evaluations: 7\n",
      "         Gradient evaluations: 7\n",
      "                           Logit Regression Results                           \n",
      "==============================================================================\n",
      "Dep. Variable:         supports_paris   No. Observations:                   52\n",
      "Model:                          Logit   Df Residuals:                       51\n",
      "Method:                           MLE   Df Model:                            0\n",
      "Date:                Fri, 20 May 2022   Pseudo R-squ.:                 -0.1182\n",
      "Time:                        17:11:57   Log-Likelihood:                -28.467\n",
      "converged:                       True   LL-Null:                       -25.457\n",
      "Covariance Type:            nonrobust   LLR p-value:                       nan\n",
      "================================================================================\n",
      "                   coef    std err          z      P>|z|      [0.025      0.975]\n",
      "--------------------------------------------------------------------------------\n",
      "conservatism    -1.3011      0.398     -3.266      0.001      -2.082      -0.520\n",
      "================================================================================\n"
     ]
    }
   ],
   "source": [
    "#standardized\n",
    "\n",
    "#model\n",
    "\n",
    "# defining the dependent and independent variables\n",
    "X = city_z[['conservatism']]\n",
    "y = city_z[['supports_paris']]\n",
    "  \n",
    "# building the model and fitting the data\n",
    "log_reg = sm.Logit(y, X).fit(method = 'bfgs')\n",
    "\n",
    "print(log_reg.summary())"
   ]
  },
  {
   "cell_type": "code",
   "execution_count": 44,
   "metadata": {},
   "outputs": [
    {
     "name": "stdout",
     "output_type": "stream",
     "text": [
      "                    5%       95%  Odds Ratio\n",
      "conservatism  0.124684  0.594368    0.272228\n"
     ]
    }
   ],
   "source": [
    "#get standardized odds ratio\n",
    "params = log_reg.params\n",
    "conf = log_reg.conf_int()\n",
    "conf['Odds Ratio'] = params\n",
    "conf.columns = ['5%', '95%', 'Odds Ratio']\n",
    "print(np.exp(conf))"
   ]
  },
  {
   "cell_type": "code",
   "execution_count": 50,
   "metadata": {},
   "outputs": [
    {
     "name": "stderr",
     "output_type": "stream",
     "text": [
      "/Users/joeskvarna/opt/anaconda3/lib/python3.8/site-packages/statsmodels/genmod/families/family.py:894: RuntimeWarning: invalid value encountered in true_divide\n",
      "  n_endog_mu = self._clean((1. - endog) / (1. - mu))\n",
      "/Users/joeskvarna/opt/anaconda3/lib/python3.8/site-packages/statsmodels/genmod/families/links.py:188: RuntimeWarning: overflow encountered in exp\n",
      "  t = np.exp(-z)\n",
      "/Users/joeskvarna/opt/anaconda3/lib/python3.8/site-packages/statsmodels/genmod/families/family.py:893: RuntimeWarning: invalid value encountered in true_divide\n",
      "  endog_mu = self._clean(endog / mu)\n"
     ]
    },
    {
     "data": {
      "image/png": "[encoded data removed]",
      "text/plain": [
       "<Figure size 576x288 with 1 Axes>"
      ]
     },
     "metadata": {
      "needs_background": "light"
     },
     "output_type": "display_data"
    }
   ],
   "source": [
    "#plot\n",
    "plt.figure(figsize = (8,4))\n",
    "sns.regplot(y = y, x = X, data = city_dataset, logistic = True, color = 'grey')\n",
    "sns.despine()\n",
    "plt.ylabel('Mayor Supports Paris Agreement')\n",
    "plt.xlabel('City Citizen Partisan Index')\n",
    "plt.savefig(FIG_DIR + 'figure45.png')"
   ]
  },
  {
   "cell_type": "markdown",
   "metadata": {},
   "source": [
    "## 2.3 Supports Paris and is democrat"
   ]
  },
  {
   "cell_type": "markdown",
   "metadata": {},
   "source": [
    "### 2.3a: Linear"
   ]
  },
  {
   "cell_type": "code",
   "execution_count": 46,
   "metadata": {},
   "outputs": [
    {
     "ename": "ValueError",
     "evalue": "endog has evaluated to an array with multiple columns that has shape (52, 2). This occurs when the variable converted to endog is non-numeric (e.g., bool or str).",
     "output_type": "error",
     "traceback": [
      "\u001b[0;31m---------------------------------------------------------------------------\u001b[0m",
      "\u001b[0;31mValueError\u001b[0m                                Traceback (most recent call last)",
      "\u001b[0;32m<ipython-input-46-a088c07dcbb4>\u001b[0m in \u001b[0;36m<module>\u001b[0;34m\u001b[0m\n\u001b[0;32m----> 1\u001b[0;31m \u001b[0mmodel6\u001b[0m \u001b[0;34m=\u001b[0m \u001b[0msmf\u001b[0m\u001b[0;34m.\u001b[0m\u001b[0mols\u001b[0m\u001b[0;34m(\u001b[0m\u001b[0mformula\u001b[0m\u001b[0;34m=\u001b[0m\u001b[0;34m'supports_paris ~ is_democrat'\u001b[0m\u001b[0;34m,\u001b[0m \u001b[0mdata\u001b[0m\u001b[0;34m=\u001b[0m\u001b[0mcity_dataset\u001b[0m\u001b[0;34m)\u001b[0m\u001b[0;34m\u001b[0m\u001b[0;34m\u001b[0m\u001b[0m\n\u001b[0m\u001b[1;32m      2\u001b[0m \u001b[0mresults6\u001b[0m \u001b[0;34m=\u001b[0m \u001b[0mmodel6\u001b[0m\u001b[0;34m.\u001b[0m\u001b[0mfit\u001b[0m\u001b[0;34m(\u001b[0m\u001b[0;34m)\u001b[0m\u001b[0;34m\u001b[0m\u001b[0;34m\u001b[0m\u001b[0m\n\u001b[1;32m      3\u001b[0m \u001b[0mprint\u001b[0m\u001b[0;34m(\u001b[0m\u001b[0mresults6\u001b[0m\u001b[0;34m.\u001b[0m\u001b[0msummary\u001b[0m\u001b[0;34m(\u001b[0m\u001b[0;34m)\u001b[0m\u001b[0;34m)\u001b[0m\u001b[0;34m\u001b[0m\u001b[0;34m\u001b[0m\u001b[0m\n",
      "\u001b[0;32m~/opt/anaconda3/lib/python3.8/site-packages/statsmodels/base/model.py\u001b[0m in \u001b[0;36mfrom_formula\u001b[0;34m(cls, formula, data, subset, drop_cols, *args, **kwargs)\u001b[0m\n\u001b[1;32m    173\u001b[0m         if (max_endog is not None and\n\u001b[1;32m    174\u001b[0m                 endog.ndim > 1 and endog.shape[1] > max_endog):\n\u001b[0;32m--> 175\u001b[0;31m             raise ValueError('endog has evaluated to an array with multiple '\n\u001b[0m\u001b[1;32m    176\u001b[0m                              \u001b[0;34m'columns that has shape {0}. This occurs when '\u001b[0m\u001b[0;34m\u001b[0m\u001b[0;34m\u001b[0m\u001b[0m\n\u001b[1;32m    177\u001b[0m                              \u001b[0;34m'the variable converted to endog is non-numeric'\u001b[0m\u001b[0;34m\u001b[0m\u001b[0;34m\u001b[0m\u001b[0m\n",
      "\u001b[0;31mValueError\u001b[0m: endog has evaluated to an array with multiple columns that has shape (52, 2). This occurs when the variable converted to endog is non-numeric (e.g., bool or str)."
     ]
    }
   ],
   "source": [
    "model6 = smf.ols(formula='supports_paris ~ is_democrat', data=city_dataset)\n",
    "results6 = model6.fit()\n",
    "print(results6.summary())"
   ]
  },
  {
   "cell_type": "code",
   "execution_count": null,
   "metadata": {},
   "outputs": [],
   "source": [
    "sns.regplot(y = 'supports_paris', x = 'is_democrat', data = city_dataset)\n",
    "plt.savefig(FIG_DIR + 'Paris_democrat.png')"
   ]
  },
  {
   "cell_type": "code",
   "execution_count": null,
   "metadata": {},
   "outputs": [],
   "source": [
    "#print(results6.params)\n",
    "\n",
    "def supports_paris(party):\n",
    "    \"\"\"\n",
    "    predicts percent chance a city supports paris based on whether their mayor is a democrat\n",
    "    enter 1 for democrat, 0 for not a democrat\n",
    "    \"\"\"\n",
    "    b0, b1 = results6.params\n",
    "    return (b0 + b1*party)\n",
    "\n",
    "democrat = supports_paris(1)\n",
    "not_dem = supports_paris(0)\n",
    "\n",
    "print(f'There is a {democrat*100} percent chance a democrat supports paris')\n",
    "print(f'There is a {not_dem*100} percent chance a non-democrat supports paris')"
   ]
  },
  {
   "cell_type": "markdown",
   "metadata": {},
   "source": [
    "### 2.3b: logistic"
   ]
  },
  {
   "cell_type": "code",
   "execution_count": null,
   "metadata": {},
   "outputs": [],
   "source": [
    "city_dataset.head()"
   ]
  },
  {
   "cell_type": "code",
   "execution_count": null,
   "metadata": {},
   "outputs": [],
   "source": [
    "#model\n",
    "\n",
    "# defining the dependent and independent variables\n",
    "X = city_dataset[['is_democrat']]\n",
    "y = city_dataset[['supports_paris']]\n",
    "  \n",
    "# building the model and fitting the data\n",
    "log_reg = sm.Logit(y, X).fit()\n",
    "\n",
    "print(log_reg.summary())"
   ]
  },
  {
   "cell_type": "code",
   "execution_count": null,
   "metadata": {},
   "outputs": [],
   "source": [
    "sns.regplot(y = 'supports_paris', x = 'is_democrat', data = city_dataset, logistic = True)"
   ]
  },
  {
   "cell_type": "markdown",
   "metadata": {},
   "source": [
    "# 3. Viz and misc"
   ]
  },
  {
   "cell_type": "code",
   "execution_count": null,
   "metadata": {},
   "outputs": [],
   "source": [
    "sns.regplot(data = city_dataset, x = 'is_democrat', y = 'supports_paris')"
   ]
  },
  {
   "cell_type": "code",
   "execution_count": null,
   "metadata": {},
   "outputs": [],
   "source": [
    "sns.regplot(data = city_dataset, x = 'is_democrat', y = 'supports_paris', logistic = True)"
   ]
  },
  {
   "cell_type": "code",
   "execution_count": null,
   "metadata": {},
   "outputs": [],
   "source": [
    "sns.regplot(data = city_dataset, x = 'conservatism', y = 'supports_paris')"
   ]
  },
  {
   "cell_type": "code",
   "execution_count": null,
   "metadata": {
    "scrolled": true
   },
   "outputs": [],
   "source": [
    "sns.scatterplot(data = city_dataset, x = 'conservatism', y = 'supports_paris', hue = 'mayor_political_party')"
   ]
  },
  {
   "cell_type": "code",
   "execution_count": null,
   "metadata": {},
   "outputs": [],
   "source": [
    "plt.figure(figsize = (8,4))\n",
    "colors = [\"#0C61DF\",'#e3dce6', \"#FA3535\"]\n",
    "sns.set_palette(sns.color_palette(colors))\n",
    "sns.swarmplot(data = city_dataset, y = 'conservatism', x = 'supports_paris', hue = 'mayor_political_party')\n",
    "plt.xticks([0, 1], ['No', 'Yes'])\n",
    "plt.xlabel('Mayor Supports Paris Agreement ')\n",
    "plt.ylabel('City Citizen Partisan Index')\n",
    "plt.legend(title = 'Mayor Political Party')\n",
    "sns.despine()\n",
    "plt.savefig(FIG_DIR + 'figure44.png')"
   ]
  },
  {
   "cell_type": "code",
   "execution_count": null,
   "metadata": {},
   "outputs": [],
   "source": [
    "sns.regplot(data = city_dataset, x = 'conservatism', y = 'supports_paris', logistic = True)"
   ]
  },
  {
   "cell_type": "code",
   "execution_count": null,
   "metadata": {},
   "outputs": [],
   "source": [
    "#conservatism squared (lower R squared, probably don't use)\n",
    "model8 = smf.ols(formula='supports_paris ~ is_democrat + conservatism_sq', data=city_dataset)\n",
    "results8 = model8.fit()\n",
    "print(results8.summary())"
   ]
  },
  {
   "cell_type": "code",
   "execution_count": null,
   "metadata": {},
   "outputs": [],
   "source": []
  }
 ],
 "metadata": {
  "interpreter": {
   "hash": "4f81b116f3ce7de0ce761b0a60cfad69037d5aec172af081f3d23541584a32cc"
  },
  "kernelspec": {
   "display_name": "Python 3",
   "language": "python",
   "name": "python3"
  },
  "language_info": {
   "codemirror_mode": {
    "name": "ipython",
    "version": 3
   },
   "file_extension": ".py",
   "mimetype": "text/x-python",
   "name": "python",
   "nbconvert_exporter": "python",
   "pygments_lexer": "ipython3",
   "version": "3.8.5"
  }
 },
 "nbformat": 4,
 "nbformat_minor": 2
}
