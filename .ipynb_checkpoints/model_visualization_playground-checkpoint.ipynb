{
 "cells": [
  {
   "cell_type": "markdown",
   "metadata": {},
   "source": [
    "Visuallizations for the city data"
   ]
  },
  {
   "cell_type": "code",
   "execution_count": 1,
   "metadata": {},
   "outputs": [],
   "source": [
    "from os import path\n",
    "import pandas as pd\n",
    "from pandas import DataFrame\n",
    "import numpy as np\n",
    "import matplotlib as plt\n",
    "import seaborn as sns\n",
    "import statsmodels.formula.api as smf\n",
    "import statsmodels.api as sm\n",
    "from sklearn import linear_model\n",
    "DATA_DIR = '/Users/joeskvarna/Desktop/Thesis/Data'"
   ]
  },
  {
   "cell_type": "code",
   "execution_count": 2,
   "metadata": {
    "scrolled": true
   },
   "outputs": [
    {
     "data": {
      "text/html": [
       "<div>\n",
       "<style scoped>\n",
       "    .dataframe tbody tr th:only-of-type {\n",
       "        vertical-align: middle;\n",
       "    }\n",
       "\n",
       "    .dataframe tbody tr th {\n",
       "        vertical-align: top;\n",
       "    }\n",
       "\n",
       "    .dataframe thead th {\n",
       "        text-align: right;\n",
       "    }\n",
       "</style>\n",
       "<table border=\"1\" class=\"dataframe\">\n",
       "  <thead>\n",
       "    <tr style=\"text-align: right;\">\n",
       "      <th></th>\n",
       "      <th>city</th>\n",
       "      <th>mayor_name</th>\n",
       "      <th>CO2_per_cap</th>\n",
       "      <th>plus_minus</th>\n",
       "      <th>conservatism</th>\n",
       "      <th>supports_paris</th>\n",
       "      <th>mayor_political_party</th>\n",
       "    </tr>\n",
       "  </thead>\n",
       "  <tbody>\n",
       "    <tr>\n",
       "      <th>0</th>\n",
       "      <td>Columbus</td>\n",
       "      <td>Andrew Ginther</td>\n",
       "      <td>19.8</td>\n",
       "      <td>8.5</td>\n",
       "      <td>-0.26</td>\n",
       "      <td>True</td>\n",
       "      <td>D</td>\n",
       "    </tr>\n",
       "    <tr>\n",
       "      <th>1</th>\n",
       "      <td>Baltimore</td>\n",
       "      <td>Bernard Young</td>\n",
       "      <td>20.2</td>\n",
       "      <td>9.1</td>\n",
       "      <td>-0.66</td>\n",
       "      <td>True</td>\n",
       "      <td>D</td>\n",
       "    </tr>\n",
       "    <tr>\n",
       "      <th>2</th>\n",
       "      <td>New York</td>\n",
       "      <td>Bill de Blasio</td>\n",
       "      <td>17.1</td>\n",
       "      <td>5.5</td>\n",
       "      <td>-0.66</td>\n",
       "      <td>True</td>\n",
       "      <td>D</td>\n",
       "    </tr>\n",
       "    <tr>\n",
       "      <th>3</th>\n",
       "      <td>Buffalo</td>\n",
       "      <td>Byron Brown</td>\n",
       "      <td>19.8</td>\n",
       "      <td>10.0</td>\n",
       "      <td>-0.66</td>\n",
       "      <td>True</td>\n",
       "      <td>D</td>\n",
       "    </tr>\n",
       "    <tr>\n",
       "      <th>4</th>\n",
       "      <td>Las Vegas</td>\n",
       "      <td>Carolyn Goodman</td>\n",
       "      <td>12.3</td>\n",
       "      <td>4.8</td>\n",
       "      <td>-0.03</td>\n",
       "      <td>False</td>\n",
       "      <td>I</td>\n",
       "    </tr>\n",
       "  </tbody>\n",
       "</table>\n",
       "</div>"
      ],
      "text/plain": [
       "        city       mayor_name  CO2_per_cap  plus_minus  conservatism  \\\n",
       "0   Columbus   Andrew Ginther         19.8         8.5         -0.26   \n",
       "1  Baltimore    Bernard Young         20.2         9.1         -0.66   \n",
       "2   New York   Bill de Blasio         17.1         5.5         -0.66   \n",
       "3    Buffalo      Byron Brown         19.8        10.0         -0.66   \n",
       "4  Las Vegas  Carolyn Goodman         12.3         4.8         -0.03   \n",
       "\n",
       "   supports_paris mayor_political_party  \n",
       "0            True                     D  \n",
       "1            True                     D  \n",
       "2            True                     D  \n",
       "3            True                     D  \n",
       "4           False                     I  "
      ]
     },
     "execution_count": 2,
     "metadata": {},
     "output_type": "execute_result"
    }
   ],
   "source": [
    "city_dataset = pd.read_csv(path.join(DATA_DIR, 'city_dataset.csv'))\n",
    "city_dataset.head()"
   ]
  },
  {
   "cell_type": "code",
   "execution_count": 6,
   "metadata": {},
   "outputs": [
    {
     "data": {
      "text/html": [
       "<div>\n",
       "<style scoped>\n",
       "    .dataframe tbody tr th:only-of-type {\n",
       "        vertical-align: middle;\n",
       "    }\n",
       "\n",
       "    .dataframe tbody tr th {\n",
       "        vertical-align: top;\n",
       "    }\n",
       "\n",
       "    .dataframe thead th {\n",
       "        text-align: right;\n",
       "    }\n",
       "</style>\n",
       "<table border=\"1\" class=\"dataframe\">\n",
       "  <thead>\n",
       "    <tr style=\"text-align: right;\">\n",
       "      <th></th>\n",
       "      <th>city</th>\n",
       "      <th>mayor_name</th>\n",
       "      <th>CO2_per_cap</th>\n",
       "      <th>plus_minus</th>\n",
       "      <th>conservatism</th>\n",
       "      <th>supports_paris</th>\n",
       "      <th>mayor_political_party</th>\n",
       "    </tr>\n",
       "  </thead>\n",
       "  <tbody>\n",
       "    <tr>\n",
       "      <th>0</th>\n",
       "      <td>Columbus</td>\n",
       "      <td>Andrew Ginther</td>\n",
       "      <td>19.8</td>\n",
       "      <td>8.5</td>\n",
       "      <td>-0.26</td>\n",
       "      <td>1</td>\n",
       "      <td>D</td>\n",
       "    </tr>\n",
       "    <tr>\n",
       "      <th>1</th>\n",
       "      <td>Baltimore</td>\n",
       "      <td>Bernard Young</td>\n",
       "      <td>20.2</td>\n",
       "      <td>9.1</td>\n",
       "      <td>-0.66</td>\n",
       "      <td>1</td>\n",
       "      <td>D</td>\n",
       "    </tr>\n",
       "    <tr>\n",
       "      <th>2</th>\n",
       "      <td>New York</td>\n",
       "      <td>Bill de Blasio</td>\n",
       "      <td>17.1</td>\n",
       "      <td>5.5</td>\n",
       "      <td>-0.66</td>\n",
       "      <td>1</td>\n",
       "      <td>D</td>\n",
       "    </tr>\n",
       "    <tr>\n",
       "      <th>3</th>\n",
       "      <td>Buffalo</td>\n",
       "      <td>Byron Brown</td>\n",
       "      <td>19.8</td>\n",
       "      <td>10.0</td>\n",
       "      <td>-0.66</td>\n",
       "      <td>1</td>\n",
       "      <td>D</td>\n",
       "    </tr>\n",
       "    <tr>\n",
       "      <th>4</th>\n",
       "      <td>Las Vegas</td>\n",
       "      <td>Carolyn Goodman</td>\n",
       "      <td>12.3</td>\n",
       "      <td>4.8</td>\n",
       "      <td>-0.03</td>\n",
       "      <td>0</td>\n",
       "      <td>I</td>\n",
       "    </tr>\n",
       "  </tbody>\n",
       "</table>\n",
       "</div>"
      ],
      "text/plain": [
       "        city       mayor_name  CO2_per_cap  plus_minus  conservatism  \\\n",
       "0   Columbus   Andrew Ginther         19.8         8.5         -0.26   \n",
       "1  Baltimore    Bernard Young         20.2         9.1         -0.66   \n",
       "2   New York   Bill de Blasio         17.1         5.5         -0.66   \n",
       "3    Buffalo      Byron Brown         19.8        10.0         -0.66   \n",
       "4  Las Vegas  Carolyn Goodman         12.3         4.8         -0.03   \n",
       "\n",
       "   supports_paris mayor_political_party  \n",
       "0               1                     D  \n",
       "1               1                     D  \n",
       "2               1                     D  \n",
       "3               1                     D  \n",
       "4               0                     I  "
      ]
     },
     "execution_count": 6,
     "metadata": {},
     "output_type": "execute_result"
    }
   ],
   "source": [
    "city_dataset[['supports_paris']] = city_dataset[['supports_paris']].astype(int)\n",
    "city_dataset.head()"
   ]
  },
  {
   "cell_type": "code",
   "execution_count": 15,
   "metadata": {},
   "outputs": [
    {
     "data": {
      "text/html": [
       "<div>\n",
       "<style scoped>\n",
       "    .dataframe tbody tr th:only-of-type {\n",
       "        vertical-align: middle;\n",
       "    }\n",
       "\n",
       "    .dataframe tbody tr th {\n",
       "        vertical-align: top;\n",
       "    }\n",
       "\n",
       "    .dataframe thead th {\n",
       "        text-align: right;\n",
       "    }\n",
       "</style>\n",
       "<table border=\"1\" class=\"dataframe\">\n",
       "  <thead>\n",
       "    <tr style=\"text-align: right;\">\n",
       "      <th></th>\n",
       "      <th>city</th>\n",
       "      <th>mayor_name</th>\n",
       "      <th>CO2_per_cap</th>\n",
       "      <th>plus_minus</th>\n",
       "      <th>conservatism</th>\n",
       "      <th>supports_paris</th>\n",
       "      <th>mayor_political_party</th>\n",
       "      <th>is_democrat</th>\n",
       "    </tr>\n",
       "  </thead>\n",
       "  <tbody>\n",
       "    <tr>\n",
       "      <th>0</th>\n",
       "      <td>Columbus</td>\n",
       "      <td>Andrew Ginther</td>\n",
       "      <td>19.8</td>\n",
       "      <td>8.5</td>\n",
       "      <td>-0.26</td>\n",
       "      <td>1</td>\n",
       "      <td>D</td>\n",
       "      <td>1</td>\n",
       "    </tr>\n",
       "    <tr>\n",
       "      <th>1</th>\n",
       "      <td>Baltimore</td>\n",
       "      <td>Bernard Young</td>\n",
       "      <td>20.2</td>\n",
       "      <td>9.1</td>\n",
       "      <td>-0.66</td>\n",
       "      <td>1</td>\n",
       "      <td>D</td>\n",
       "      <td>1</td>\n",
       "    </tr>\n",
       "    <tr>\n",
       "      <th>2</th>\n",
       "      <td>New York</td>\n",
       "      <td>Bill de Blasio</td>\n",
       "      <td>17.1</td>\n",
       "      <td>5.5</td>\n",
       "      <td>-0.66</td>\n",
       "      <td>1</td>\n",
       "      <td>D</td>\n",
       "      <td>1</td>\n",
       "    </tr>\n",
       "    <tr>\n",
       "      <th>3</th>\n",
       "      <td>Buffalo</td>\n",
       "      <td>Byron Brown</td>\n",
       "      <td>19.8</td>\n",
       "      <td>10.0</td>\n",
       "      <td>-0.66</td>\n",
       "      <td>1</td>\n",
       "      <td>D</td>\n",
       "      <td>1</td>\n",
       "    </tr>\n",
       "    <tr>\n",
       "      <th>4</th>\n",
       "      <td>Las Vegas</td>\n",
       "      <td>Carolyn Goodman</td>\n",
       "      <td>12.3</td>\n",
       "      <td>4.8</td>\n",
       "      <td>-0.03</td>\n",
       "      <td>0</td>\n",
       "      <td>I</td>\n",
       "      <td>0</td>\n",
       "    </tr>\n",
       "  </tbody>\n",
       "</table>\n",
       "</div>"
      ],
      "text/plain": [
       "        city       mayor_name  CO2_per_cap  plus_minus  conservatism  \\\n",
       "0   Columbus   Andrew Ginther         19.8         8.5         -0.26   \n",
       "1  Baltimore    Bernard Young         20.2         9.1         -0.66   \n",
       "2   New York   Bill de Blasio         17.1         5.5         -0.66   \n",
       "3    Buffalo      Byron Brown         19.8        10.0         -0.66   \n",
       "4  Las Vegas  Carolyn Goodman         12.3         4.8         -0.03   \n",
       "\n",
       "   supports_paris mayor_political_party  is_democrat  \n",
       "0               1                     D            1  \n",
       "1               1                     D            1  \n",
       "2               1                     D            1  \n",
       "3               1                     D            1  \n",
       "4               0                     I            0  "
      ]
     },
     "execution_count": 15,
     "metadata": {},
     "output_type": "execute_result"
    }
   ],
   "source": [
    "city_dataset[['is_democrat']] = (city_dataset[['mayor_political_party']] == 'D').astype(int)\n",
    "city_dataset.head()"
   ]
  },
  {
   "cell_type": "code",
   "execution_count": 4,
   "metadata": {
    "collapsed": true
   },
   "outputs": [
    {
     "data": {
      "text/plain": [
       "<AxesSubplot:xlabel='conservatism', ylabel='CO2_per_cap'>"
      ]
     },
     "execution_count": 4,
     "metadata": {},
     "output_type": "execute_result"
    },
    {
     "data": {
      "image/png": "[encoded data removed]",
      "text/plain": [
       "<Figure size 432x288 with 1 Axes>"
      ]
     },
     "metadata": {
      "needs_background": "light"
     },
     "output_type": "display_data"
    }
   ],
   "source": [
    "sns.scatterplot(data=city_dataset, x=\"conservatism\", y=\"CO2_per_cap\")"
   ]
  },
  {
   "cell_type": "code",
   "execution_count": 5,
   "metadata": {
    "collapsed": true
   },
   "outputs": [
    {
     "data": {
      "text/plain": [
       "<AxesSubplot:xlabel='mayor_political_party', ylabel='Count'>"
      ]
     },
     "execution_count": 5,
     "metadata": {},
     "output_type": "execute_result"
    },
    {
     "data": {
      "image/png": "[encoded data removed]",
      "text/plain": [
       "<Figure size 432x288 with 1 Axes>"
      ]
     },
     "metadata": {
      "needs_background": "light"
     },
     "output_type": "display_data"
    }
   ],
   "source": [
    "sns.histplot(data=city_dataset, x=\"mayor_political_party\")"
   ]
  },
  {
   "cell_type": "code",
   "execution_count": 6,
   "metadata": {
    "collapsed": true
   },
   "outputs": [
    {
     "data": {
      "image/png": "[encoded data removed]",
      "text/plain": [
       "<Figure size 432x288 with 1 Axes>"
      ]
     },
     "metadata": {
      "needs_background": "light"
     },
     "output_type": "display_data"
    }
   ],
   "source": [
    "ax = sns.countplot(x=\"supports_paris\", data=city_dataset)"
   ]
  },
  {
   "cell_type": "code",
   "execution_count": 1,
   "metadata": {},
   "outputs": [],
   "source": [
    "#linear regression"
   ]
  },
  {
   "cell_type": "code",
   "execution_count": 10,
   "metadata": {
    "collapsed": true
   },
   "outputs": [
    {
     "data": {
      "text/html": [
       "<table class=\"simpletable\">\n",
       "<caption>OLS Regression Results</caption>\n",
       "<tr>\n",
       "  <th>Dep. Variable:</th>       <td>CO2_per_cap</td>   <th>  R-squared:         </th> <td>   0.057</td>\n",
       "</tr>\n",
       "<tr>\n",
       "  <th>Model:</th>                   <td>OLS</td>       <th>  Adj. R-squared:    </th> <td>   0.038</td>\n",
       "</tr>\n",
       "<tr>\n",
       "  <th>Method:</th>             <td>Least Squares</td>  <th>  F-statistic:       </th> <td>   2.998</td>\n",
       "</tr>\n",
       "<tr>\n",
       "  <th>Date:</th>             <td>Tue, 28 Dec 2021</td> <th>  Prob (F-statistic):</th>  <td>0.0896</td> \n",
       "</tr>\n",
       "<tr>\n",
       "  <th>Time:</th>                 <td>21:59:03</td>     <th>  Log-Likelihood:    </th> <td> -135.16</td>\n",
       "</tr>\n",
       "<tr>\n",
       "  <th>No. Observations:</th>      <td>    52</td>      <th>  AIC:               </th> <td>   274.3</td>\n",
       "</tr>\n",
       "<tr>\n",
       "  <th>Df Residuals:</th>          <td>    50</td>      <th>  BIC:               </th> <td>   278.2</td>\n",
       "</tr>\n",
       "<tr>\n",
       "  <th>Df Model:</th>              <td>     1</td>      <th>                     </th>     <td> </td>   \n",
       "</tr>\n",
       "<tr>\n",
       "  <th>Covariance Type:</th>      <td>nonrobust</td>    <th>                     </th>     <td> </td>   \n",
       "</tr>\n",
       "</table>\n",
       "<table class=\"simpletable\">\n",
       "<tr>\n",
       "        <td></td>          <th>coef</th>     <th>std err</th>      <th>t</th>      <th>P>|t|</th>  <th>[0.025</th>    <th>0.975]</th>  \n",
       "</tr>\n",
       "<tr>\n",
       "  <th>Intercept</th>    <td>   17.7973</td> <td>    0.682</td> <td>   26.084</td> <td> 0.000</td> <td>   16.427</td> <td>   19.168</td>\n",
       "</tr>\n",
       "<tr>\n",
       "  <th>conservatism</th> <td>   -2.7037</td> <td>    1.562</td> <td>   -1.731</td> <td> 0.090</td> <td>   -5.840</td> <td>    0.433</td>\n",
       "</tr>\n",
       "</table>\n",
       "<table class=\"simpletable\">\n",
       "<tr>\n",
       "  <th>Omnibus:</th>       <td> 6.168</td> <th>  Durbin-Watson:     </th> <td>   2.011</td>\n",
       "</tr>\n",
       "<tr>\n",
       "  <th>Prob(Omnibus):</th> <td> 0.046</td> <th>  Jarque-Bera (JB):  </th> <td>   2.846</td>\n",
       "</tr>\n",
       "<tr>\n",
       "  <th>Skew:</th>          <td> 0.293</td> <th>  Prob(JB):          </th> <td>   0.241</td>\n",
       "</tr>\n",
       "<tr>\n",
       "  <th>Kurtosis:</th>      <td> 2.015</td> <th>  Cond. No.          </th> <td>    3.78</td>\n",
       "</tr>\n",
       "</table><br/><br/>Notes:<br/>[1] Standard Errors assume that the covariance matrix of the errors is correctly specified."
      ],
      "text/plain": [
       "<class 'statsmodels.iolib.summary.Summary'>\n",
       "\"\"\"\n",
       "                            OLS Regression Results                            \n",
       "==============================================================================\n",
       "Dep. Variable:            CO2_per_cap   R-squared:                       0.057\n",
       "Model:                            OLS   Adj. R-squared:                  0.038\n",
       "Method:                 Least Squares   F-statistic:                     2.998\n",
       "Date:                Tue, 28 Dec 2021   Prob (F-statistic):             0.0896\n",
       "Time:                        21:59:03   Log-Likelihood:                -135.16\n",
       "No. Observations:                  52   AIC:                             274.3\n",
       "Df Residuals:                      50   BIC:                             278.2\n",
       "Df Model:                           1                                         \n",
       "Covariance Type:            nonrobust                                         \n",
       "================================================================================\n",
       "                   coef    std err          t      P>|t|      [0.025      0.975]\n",
       "--------------------------------------------------------------------------------\n",
       "Intercept       17.7973      0.682     26.084      0.000      16.427      19.168\n",
       "conservatism    -2.7037      1.562     -1.731      0.090      -5.840       0.433\n",
       "==============================================================================\n",
       "Omnibus:                        6.168   Durbin-Watson:                   2.011\n",
       "Prob(Omnibus):                  0.046   Jarque-Bera (JB):                2.846\n",
       "Skew:                           0.293   Prob(JB):                        0.241\n",
       "Kurtosis:                       2.015   Cond. No.                         3.78\n",
       "==============================================================================\n",
       "\n",
       "Notes:\n",
       "[1] Standard Errors assume that the covariance matrix of the errors is correctly specified.\n",
       "\"\"\""
      ]
     },
     "execution_count": 10,
     "metadata": {},
     "output_type": "execute_result"
    }
   ],
   "source": [
    "#co2 per cap and conservatism\n",
    "model1 = smf.ols(formula='CO2_per_cap ~ conservatism', data=city_dataset)\n",
    "results1 = model1.fit()\n",
    "results1.summary()"
   ]
  },
  {
   "cell_type": "code",
   "execution_count": 9,
   "metadata": {
    "collapsed": true
   },
   "outputs": [
    {
     "data": {
      "image/png": "[encoded data removed]",
      "text/plain": [
       "<Figure size 432x288 with 2 Axes>"
      ]
     },
     "metadata": {
      "needs_background": "light"
     },
     "output_type": "display_data"
    }
   ],
   "source": [
    "fig = sm.graphics.plot_partregress_grid(results1)\n",
    "fig.tight_layout(pad = 1)"
   ]
  },
  {
   "cell_type": "code",
   "execution_count": 8,
   "metadata": {
    "collapsed": true
   },
   "outputs": [
    {
     "data": {
      "text/html": [
       "<table class=\"simpletable\">\n",
       "<tr>\n",
       "        <td>Model:</td>               <td>OLS</td>         <td>Adj. R-squared:</td>     <td>0.004</td> \n",
       "</tr>\n",
       "<tr>\n",
       "  <td>Dependent Variable:</td>    <td>CO2_per_cap</td>          <td>AIC:</td>         <td>276.1109</td>\n",
       "</tr>\n",
       "<tr>\n",
       "         <td>Date:</td>        <td>2021-12-28 22:16</td>        <td>BIC:</td>         <td>280.0134</td>\n",
       "</tr>\n",
       "<tr>\n",
       "   <td>No. Observations:</td>         <td>52</td>          <td>Log-Likelihood:</td>    <td>-136.06</td>\n",
       "</tr>\n",
       "<tr>\n",
       "       <td>Df Model:</td>              <td>1</td>           <td>F-statistic:</td>       <td>1.195</td> \n",
       "</tr>\n",
       "<tr>\n",
       "     <td>Df Residuals:</td>           <td>50</td>        <td>Prob (F-statistic):</td>   <td>0.280</td> \n",
       "</tr>\n",
       "<tr>\n",
       "      <td>R-squared:</td>            <td>0.023</td>            <td>Scale:</td>         <td>11.407</td> \n",
       "</tr>\n",
       "</table>\n",
       "<table class=\"simpletable\">\n",
       "<tr>\n",
       "         <td></td>         <th>Coef.</th>  <th>Std.Err.</th>    <th>t</th>     <th>P>|t|</th> <th>[0.025</th>  <th>0.975]</th> \n",
       "</tr>\n",
       "<tr>\n",
       "  <th>Intercept</th>      <td>17.6200</td>  <td>1.0680</td>  <td>16.4974</td> <td>0.0000</td> <td>15.4748</td> <td>19.7652</td>\n",
       "</tr>\n",
       "<tr>\n",
       "  <th>supports_paris</th> <td>1.2990</td>   <td>1.1884</td>  <td>1.0931</td>  <td>0.2796</td> <td>-1.0879</td> <td>3.6860</td> \n",
       "</tr>\n",
       "</table>\n",
       "<table class=\"simpletable\">\n",
       "<tr>\n",
       "     <td>Omnibus:</td>    <td>4.611</td>  <td>Durbin-Watson:</td>   <td>1.993</td>\n",
       "</tr>\n",
       "<tr>\n",
       "  <td>Prob(Omnibus):</td> <td>0.100</td> <td>Jarque-Bera (JB):</td> <td>2.453</td>\n",
       "</tr>\n",
       "<tr>\n",
       "       <td>Skew:</td>     <td>0.278</td>     <td>Prob(JB):</td>     <td>0.293</td>\n",
       "</tr>\n",
       "<tr>\n",
       "     <td>Kurtosis:</td>   <td>2.093</td>  <td>Condition No.:</td>     <td>4</td>  \n",
       "</tr>\n",
       "</table>"
      ],
      "text/plain": [
       "<class 'statsmodels.iolib.summary2.Summary'>\n",
       "\"\"\"\n",
       "                 Results: Ordinary least squares\n",
       "=================================================================\n",
       "Model:              OLS              Adj. R-squared:     0.004   \n",
       "Dependent Variable: CO2_per_cap      AIC:                276.1109\n",
       "Date:               2021-12-28 22:16 BIC:                280.0134\n",
       "No. Observations:   52               Log-Likelihood:     -136.06 \n",
       "Df Model:           1                F-statistic:        1.195   \n",
       "Df Residuals:       50               Prob (F-statistic): 0.280   \n",
       "R-squared:          0.023            Scale:              11.407  \n",
       "-----------------------------------------------------------------\n",
       "                   Coef.  Std.Err.    t    P>|t|   [0.025  0.975]\n",
       "-----------------------------------------------------------------\n",
       "Intercept         17.6200   1.0680 16.4974 0.0000 15.4748 19.7652\n",
       "supports_paris     1.2990   1.1884  1.0931 0.2796 -1.0879  3.6860\n",
       "-----------------------------------------------------------------\n",
       "Omnibus:              4.611        Durbin-Watson:           1.993\n",
       "Prob(Omnibus):        0.100        Jarque-Bera (JB):        2.453\n",
       "Skew:                 0.278        Prob(JB):                0.293\n",
       "Kurtosis:             2.093        Condition No.:           4    \n",
       "=================================================================\n",
       "\n",
       "\"\"\""
      ]
     },
     "execution_count": 8,
     "metadata": {},
     "output_type": "execute_result"
    }
   ],
   "source": [
    "#co2 per cap and supports paris\n",
    "model2 = smf.ols(formula='CO2_per_cap ~ supports_paris', data=city_dataset)\n",
    "results2 = model2.fit()\n",
    "results2.summary2()"
   ]
  },
  {
   "cell_type": "code",
   "execution_count": 9,
   "metadata": {
    "collapsed": true
   },
   "outputs": [
    {
     "data": {
      "text/html": [
       "<table class=\"simpletable\">\n",
       "<caption>OLS Regression Results</caption>\n",
       "<tr>\n",
       "  <th>Dep. Variable:</th>       <td>CO2_per_cap</td>   <th>  R-squared:         </th> <td>   0.155</td>\n",
       "</tr>\n",
       "<tr>\n",
       "  <th>Model:</th>                   <td>OLS</td>       <th>  Adj. R-squared:    </th> <td>   0.121</td>\n",
       "</tr>\n",
       "<tr>\n",
       "  <th>Method:</th>             <td>Least Squares</td>  <th>  F-statistic:       </th> <td>   4.500</td>\n",
       "</tr>\n",
       "<tr>\n",
       "  <th>Date:</th>             <td>Tue, 28 Dec 2021</td> <th>  Prob (F-statistic):</th>  <td>0.0161</td> \n",
       "</tr>\n",
       "<tr>\n",
       "  <th>Time:</th>                 <td>22:17:01</td>     <th>  Log-Likelihood:    </th> <td> -132.29</td>\n",
       "</tr>\n",
       "<tr>\n",
       "  <th>No. Observations:</th>      <td>    52</td>      <th>  AIC:               </th> <td>   270.6</td>\n",
       "</tr>\n",
       "<tr>\n",
       "  <th>Df Residuals:</th>          <td>    49</td>      <th>  BIC:               </th> <td>   276.4</td>\n",
       "</tr>\n",
       "<tr>\n",
       "  <th>Df Model:</th>              <td>     2</td>      <th>                     </th>     <td> </td>   \n",
       "</tr>\n",
       "<tr>\n",
       "  <th>Covariance Type:</th>      <td>nonrobust</td>    <th>                     </th>     <td> </td>   \n",
       "</tr>\n",
       "</table>\n",
       "<table class=\"simpletable\">\n",
       "<tr>\n",
       "               <td></td>                 <th>coef</th>     <th>std err</th>      <th>t</th>      <th>P>|t|</th>  <th>[0.025</th>    <th>0.975]</th>  \n",
       "</tr>\n",
       "<tr>\n",
       "  <th>Intercept</th>                  <td>   19.3211</td> <td>    0.515</td> <td>   37.535</td> <td> 0.000</td> <td>   18.287</td> <td>   20.355</td>\n",
       "</tr>\n",
       "<tr>\n",
       "  <th>mayor_political_party[T.I]</th> <td>   -5.2544</td> <td>    1.903</td> <td>   -2.761</td> <td> 0.008</td> <td>   -9.079</td> <td>   -1.430</td>\n",
       "</tr>\n",
       "<tr>\n",
       "  <th>mayor_political_party[T.R]</th> <td>   -1.6483</td> <td>    1.086</td> <td>   -1.517</td> <td> 0.136</td> <td>   -3.832</td> <td>    0.535</td>\n",
       "</tr>\n",
       "</table>\n",
       "<table class=\"simpletable\">\n",
       "<tr>\n",
       "  <th>Omnibus:</th>       <td> 2.536</td> <th>  Durbin-Watson:     </th> <td>   1.993</td>\n",
       "</tr>\n",
       "<tr>\n",
       "  <th>Prob(Omnibus):</th> <td> 0.281</td> <th>  Jarque-Bera (JB):  </th> <td>   1.780</td>\n",
       "</tr>\n",
       "<tr>\n",
       "  <th>Skew:</th>          <td> 0.252</td> <th>  Prob(JB):          </th> <td>   0.411</td>\n",
       "</tr>\n",
       "<tr>\n",
       "  <th>Kurtosis:</th>      <td> 2.247</td> <th>  Cond. No.          </th> <td>    4.48</td>\n",
       "</tr>\n",
       "</table><br/><br/>Notes:<br/>[1] Standard Errors assume that the covariance matrix of the errors is correctly specified."
      ],
      "text/plain": [
       "<class 'statsmodels.iolib.summary.Summary'>\n",
       "\"\"\"\n",
       "                            OLS Regression Results                            \n",
       "==============================================================================\n",
       "Dep. Variable:            CO2_per_cap   R-squared:                       0.155\n",
       "Model:                            OLS   Adj. R-squared:                  0.121\n",
       "Method:                 Least Squares   F-statistic:                     4.500\n",
       "Date:                Tue, 28 Dec 2021   Prob (F-statistic):             0.0161\n",
       "Time:                        22:17:01   Log-Likelihood:                -132.29\n",
       "No. Observations:                  52   AIC:                             270.6\n",
       "Df Residuals:                      49   BIC:                             276.4\n",
       "Df Model:                           2                                         \n",
       "Covariance Type:            nonrobust                                         \n",
       "==============================================================================================\n",
       "                                 coef    std err          t      P>|t|      [0.025      0.975]\n",
       "----------------------------------------------------------------------------------------------\n",
       "Intercept                     19.3211      0.515     37.535      0.000      18.287      20.355\n",
       "mayor_political_party[T.I]    -5.2544      1.903     -2.761      0.008      -9.079      -1.430\n",
       "mayor_political_party[T.R]    -1.6483      1.086     -1.517      0.136      -3.832       0.535\n",
       "==============================================================================\n",
       "Omnibus:                        2.536   Durbin-Watson:                   1.993\n",
       "Prob(Omnibus):                  0.281   Jarque-Bera (JB):                1.780\n",
       "Skew:                           0.252   Prob(JB):                        0.411\n",
       "Kurtosis:                       2.247   Cond. No.                         4.48\n",
       "==============================================================================\n",
       "\n",
       "Notes:\n",
       "[1] Standard Errors assume that the covariance matrix of the errors is correctly specified.\n",
       "\"\"\""
      ]
     },
     "execution_count": 9,
     "metadata": {},
     "output_type": "execute_result"
    }
   ],
   "source": [
    "#Co2 per cap and mayor political party\n",
    "model3 = smf.ols(formula='CO2_per_cap ~ mayor_political_party', data=city_dataset)\n",
    "results3 = model3.fit()\n",
    "results3.summary()"
   ]
  },
  {
   "cell_type": "code",
   "execution_count": 10,
   "metadata": {
    "collapsed": true
   },
   "outputs": [
    {
     "data": {
      "text/html": [
       "<table class=\"simpletable\">\n",
       "<caption>OLS Regression Results</caption>\n",
       "<tr>\n",
       "  <th>Dep. Variable:</th>       <td>CO2_per_cap</td>   <th>  R-squared:         </th> <td>   0.175</td>\n",
       "</tr>\n",
       "<tr>\n",
       "  <th>Model:</th>                   <td>OLS</td>       <th>  Adj. R-squared:    </th> <td>   0.104</td>\n",
       "</tr>\n",
       "<tr>\n",
       "  <th>Method:</th>             <td>Least Squares</td>  <th>  F-statistic:       </th> <td>   2.487</td>\n",
       "</tr>\n",
       "<tr>\n",
       "  <th>Date:</th>             <td>Tue, 28 Dec 2021</td> <th>  Prob (F-statistic):</th>  <td>0.0560</td> \n",
       "</tr>\n",
       "<tr>\n",
       "  <th>Time:</th>                 <td>22:17:12</td>     <th>  Log-Likelihood:    </th> <td> -131.68</td>\n",
       "</tr>\n",
       "<tr>\n",
       "  <th>No. Observations:</th>      <td>    52</td>      <th>  AIC:               </th> <td>   273.4</td>\n",
       "</tr>\n",
       "<tr>\n",
       "  <th>Df Residuals:</th>          <td>    47</td>      <th>  BIC:               </th> <td>   283.1</td>\n",
       "</tr>\n",
       "<tr>\n",
       "  <th>Df Model:</th>              <td>     4</td>      <th>                     </th>     <td> </td>   \n",
       "</tr>\n",
       "<tr>\n",
       "  <th>Covariance Type:</th>      <td>nonrobust</td>    <th>                     </th>     <td> </td>   \n",
       "</tr>\n",
       "</table>\n",
       "<table class=\"simpletable\">\n",
       "<tr>\n",
       "               <td></td>                 <th>coef</th>     <th>std err</th>      <th>t</th>      <th>P>|t|</th>  <th>[0.025</th>    <th>0.975]</th>  \n",
       "</tr>\n",
       "<tr>\n",
       "  <th>Intercept</th>                  <td>   20.5575</td> <td>    2.176</td> <td>    9.446</td> <td> 0.000</td> <td>   16.179</td> <td>   24.936</td>\n",
       "</tr>\n",
       "<tr>\n",
       "  <th>mayor_political_party[T.I]</th> <td>   -5.3659</td> <td>    2.083</td> <td>   -2.576</td> <td> 0.013</td> <td>   -9.557</td> <td>   -1.175</td>\n",
       "</tr>\n",
       "<tr>\n",
       "  <th>mayor_political_party[T.R]</th> <td>   -2.5394</td> <td>    2.059</td> <td>   -1.233</td> <td> 0.224</td> <td>   -6.682</td> <td>    1.603</td>\n",
       "</tr>\n",
       "<tr>\n",
       "  <th>conservatism</th>               <td>   -1.6985</td> <td>    2.014</td> <td>   -0.843</td> <td> 0.403</td> <td>   -5.750</td> <td>    2.352</td>\n",
       "</tr>\n",
       "<tr>\n",
       "  <th>supports_paris</th>             <td>   -1.9678</td> <td>    2.239</td> <td>   -0.879</td> <td> 0.384</td> <td>   -6.472</td> <td>    2.536</td>\n",
       "</tr>\n",
       "</table>\n",
       "<table class=\"simpletable\">\n",
       "<tr>\n",
       "  <th>Omnibus:</th>       <td> 3.687</td> <th>  Durbin-Watson:     </th> <td>   1.972</td>\n",
       "</tr>\n",
       "<tr>\n",
       "  <th>Prob(Omnibus):</th> <td> 0.158</td> <th>  Jarque-Bera (JB):  </th> <td>   2.120</td>\n",
       "</tr>\n",
       "<tr>\n",
       "  <th>Skew:</th>          <td> 0.248</td> <th>  Prob(JB):          </th> <td>   0.346</td>\n",
       "</tr>\n",
       "<tr>\n",
       "  <th>Kurtosis:</th>      <td> 2.144</td> <th>  Cond. No.          </th> <td>    11.2</td>\n",
       "</tr>\n",
       "</table><br/><br/>Notes:<br/>[1] Standard Errors assume that the covariance matrix of the errors is correctly specified."
      ],
      "text/plain": [
       "<class 'statsmodels.iolib.summary.Summary'>\n",
       "\"\"\"\n",
       "                            OLS Regression Results                            \n",
       "==============================================================================\n",
       "Dep. Variable:            CO2_per_cap   R-squared:                       0.175\n",
       "Model:                            OLS   Adj. R-squared:                  0.104\n",
       "Method:                 Least Squares   F-statistic:                     2.487\n",
       "Date:                Tue, 28 Dec 2021   Prob (F-statistic):             0.0560\n",
       "Time:                        22:17:12   Log-Likelihood:                -131.68\n",
       "No. Observations:                  52   AIC:                             273.4\n",
       "Df Residuals:                      47   BIC:                             283.1\n",
       "Df Model:                           4                                         \n",
       "Covariance Type:            nonrobust                                         \n",
       "==============================================================================================\n",
       "                                 coef    std err          t      P>|t|      [0.025      0.975]\n",
       "----------------------------------------------------------------------------------------------\n",
       "Intercept                     20.5575      2.176      9.446      0.000      16.179      24.936\n",
       "mayor_political_party[T.I]    -5.3659      2.083     -2.576      0.013      -9.557      -1.175\n",
       "mayor_political_party[T.R]    -2.5394      2.059     -1.233      0.224      -6.682       1.603\n",
       "conservatism                  -1.6985      2.014     -0.843      0.403      -5.750       2.352\n",
       "supports_paris                -1.9678      2.239     -0.879      0.384      -6.472       2.536\n",
       "==============================================================================\n",
       "Omnibus:                        3.687   Durbin-Watson:                   1.972\n",
       "Prob(Omnibus):                  0.158   Jarque-Bera (JB):                2.120\n",
       "Skew:                           0.248   Prob(JB):                        0.346\n",
       "Kurtosis:                       2.144   Cond. No.                         11.2\n",
       "==============================================================================\n",
       "\n",
       "Notes:\n",
       "[1] Standard Errors assume that the covariance matrix of the errors is correctly specified.\n",
       "\"\"\""
      ]
     },
     "execution_count": 10,
     "metadata": {},
     "output_type": "execute_result"
    }
   ],
   "source": [
    "#look into dummy variables\n",
    "#full co2 model\n",
    "model = smf.ols(formula='CO2_per_cap ~ conservatism + supports_paris + mayor_political_party', data=city_dataset)\n",
    "results = model.fit()\n",
    "results.summary()"
   ]
  },
  {
   "cell_type": "code",
   "execution_count": 27,
   "metadata": {
    "collapsed": true
   },
   "outputs": [
    {
     "name": "stdout",
     "output_type": "stream",
     "text": [
      "Intercept                     1.000000\n",
      "mayor_political_party[T.I]   -0.333333\n",
      "mayor_political_party[T.R]   -0.818182\n",
      "dtype: float64\n",
      "                            OLS Regression Results                            \n",
      "==============================================================================\n",
      "Dep. Variable:         supports_paris   R-squared:                       0.715\n",
      "Model:                            OLS   Adj. R-squared:                  0.703\n",
      "Method:                 Least Squares   F-statistic:                     61.42\n",
      "Date:                Tue, 28 Dec 2021   Prob (F-statistic):           4.45e-14\n",
      "Time:                        22:26:31   Log-Likelihood:                 7.2577\n",
      "No. Observations:                  52   AIC:                            -8.515\n",
      "Df Residuals:                      49   BIC:                            -2.662\n",
      "Df Model:                           2                                         \n",
      "Covariance Type:            nonrobust                                         \n",
      "==============================================================================================\n",
      "                                 coef    std err          t      P>|t|      [0.025      0.975]\n",
      "----------------------------------------------------------------------------------------------\n",
      "Intercept                      1.0000      0.035     28.434      0.000       0.929       1.071\n",
      "mayor_political_party[T.I]    -0.3333      0.130     -2.564      0.013      -0.595      -0.072\n",
      "mayor_political_party[T.R]    -0.8182      0.074    -11.023      0.000      -0.967      -0.669\n",
      "==============================================================================\n",
      "Omnibus:                       36.863   Durbin-Watson:                   1.914\n",
      "Prob(Omnibus):                  0.000   Jarque-Bera (JB):              165.576\n",
      "Skew:                           1.690   Prob(JB):                     1.11e-36\n",
      "Kurtosis:                      11.062   Cond. No.                         4.48\n",
      "==============================================================================\n",
      "\n",
      "Notes:\n",
      "[1] Standard Errors assume that the covariance matrix of the errors is correctly specified.\n"
     ]
    }
   ],
   "source": [
    "#need to make not ols\n",
    "#relationship supports paris and mayor_political party\n",
    "model4 = smf.ols(formula='supports_paris ~ mayor_political_party', data=city_dataset)\n",
    "results4 = model4.fit()\n",
    "print(results4.params)\n",
    "print(results4.summary())"
   ]
  },
  {
   "cell_type": "code",
   "execution_count": 19,
   "metadata": {
    "collapsed": true
   },
   "outputs": [
    {
     "data": {
      "text/html": [
       "<table class=\"simpletable\">\n",
       "<caption>OLS Regression Results</caption>\n",
       "<tr>\n",
       "  <th>Dep. Variable:</th>     <td>supports_paris</td>  <th>  R-squared:         </th> <td>   0.418</td>\n",
       "</tr>\n",
       "<tr>\n",
       "  <th>Model:</th>                   <td>OLS</td>       <th>  Adj. R-squared:    </th> <td>   0.406</td>\n",
       "</tr>\n",
       "<tr>\n",
       "  <th>Method:</th>             <td>Least Squares</td>  <th>  F-statistic:       </th> <td>   35.88</td>\n",
       "</tr>\n",
       "<tr>\n",
       "  <th>Date:</th>             <td>Tue, 28 Dec 2021</td> <th>  Prob (F-statistic):</th> <td>2.27e-07</td>\n",
       "</tr>\n",
       "<tr>\n",
       "  <th>Time:</th>                 <td>22:20:56</td>     <th>  Log-Likelihood:    </th> <td> -11.301</td>\n",
       "</tr>\n",
       "<tr>\n",
       "  <th>No. Observations:</th>      <td>    52</td>      <th>  AIC:               </th> <td>   26.60</td>\n",
       "</tr>\n",
       "<tr>\n",
       "  <th>Df Residuals:</th>          <td>    50</td>      <th>  BIC:               </th> <td>   30.50</td>\n",
       "</tr>\n",
       "<tr>\n",
       "  <th>Df Model:</th>              <td>     1</td>      <th>                     </th>     <td> </td>   \n",
       "</tr>\n",
       "<tr>\n",
       "  <th>Covariance Type:</th>      <td>nonrobust</td>    <th>                     </th>     <td> </td>   \n",
       "</tr>\n",
       "</table>\n",
       "<table class=\"simpletable\">\n",
       "<tr>\n",
       "        <td></td>          <th>coef</th>     <th>std err</th>      <th>t</th>      <th>P>|t|</th>  <th>[0.025</th>    <th>0.975]</th>  \n",
       "</tr>\n",
       "<tr>\n",
       "  <th>Intercept</th>    <td>    0.5290</td> <td>    0.063</td> <td>    8.392</td> <td> 0.000</td> <td>    0.402</td> <td>    0.656</td>\n",
       "</tr>\n",
       "<tr>\n",
       "  <th>conservatism</th> <td>   -0.8642</td> <td>    0.144</td> <td>   -5.990</td> <td> 0.000</td> <td>   -1.154</td> <td>   -0.574</td>\n",
       "</tr>\n",
       "</table>\n",
       "<table class=\"simpletable\">\n",
       "<tr>\n",
       "  <th>Omnibus:</th>       <td> 5.929</td> <th>  Durbin-Watson:     </th> <td>   1.602</td>\n",
       "</tr>\n",
       "<tr>\n",
       "  <th>Prob(Omnibus):</th> <td> 0.052</td> <th>  Jarque-Bera (JB):  </th> <td>   3.415</td>\n",
       "</tr>\n",
       "<tr>\n",
       "  <th>Skew:</th>          <td>-0.424</td> <th>  Prob(JB):          </th> <td>   0.181</td>\n",
       "</tr>\n",
       "<tr>\n",
       "  <th>Kurtosis:</th>      <td> 2.075</td> <th>  Cond. No.          </th> <td>    3.78</td>\n",
       "</tr>\n",
       "</table><br/><br/>Notes:<br/>[1] Standard Errors assume that the covariance matrix of the errors is correctly specified."
      ],
      "text/plain": [
       "<class 'statsmodels.iolib.summary.Summary'>\n",
       "\"\"\"\n",
       "                            OLS Regression Results                            \n",
       "==============================================================================\n",
       "Dep. Variable:         supports_paris   R-squared:                       0.418\n",
       "Model:                            OLS   Adj. R-squared:                  0.406\n",
       "Method:                 Least Squares   F-statistic:                     35.88\n",
       "Date:                Tue, 28 Dec 2021   Prob (F-statistic):           2.27e-07\n",
       "Time:                        22:20:56   Log-Likelihood:                -11.301\n",
       "No. Observations:                  52   AIC:                             26.60\n",
       "Df Residuals:                      50   BIC:                             30.50\n",
       "Df Model:                           1                                         \n",
       "Covariance Type:            nonrobust                                         \n",
       "================================================================================\n",
       "                   coef    std err          t      P>|t|      [0.025      0.975]\n",
       "--------------------------------------------------------------------------------\n",
       "Intercept        0.5290      0.063      8.392      0.000       0.402       0.656\n",
       "conservatism    -0.8642      0.144     -5.990      0.000      -1.154      -0.574\n",
       "==============================================================================\n",
       "Omnibus:                        5.929   Durbin-Watson:                   1.602\n",
       "Prob(Omnibus):                  0.052   Jarque-Bera (JB):                3.415\n",
       "Skew:                          -0.424   Prob(JB):                        0.181\n",
       "Kurtosis:                       2.075   Cond. No.                         3.78\n",
       "==============================================================================\n",
       "\n",
       "Notes:\n",
       "[1] Standard Errors assume that the covariance matrix of the errors is correctly specified.\n",
       "\"\"\""
      ]
     },
     "execution_count": 19,
     "metadata": {},
     "output_type": "execute_result"
    }
   ],
   "source": [
    "#supports paris and conservatism\n",
    "model5 = smf.ols(formula='supports_paris ~ conservatism', data=city_dataset)\n",
    "results5 = model5.fit()\n",
    "results5.summary()"
   ]
  },
  {
   "cell_type": "code",
   "execution_count": 31,
   "metadata": {
    "collapsed": true
   },
   "outputs": [
    {
     "data": {
      "text/html": [
       "<table class=\"simpletable\">\n",
       "<caption>OLS Regression Results</caption>\n",
       "<tr>\n",
       "  <th>Dep. Variable:</th>     <td>supports_paris</td>  <th>  R-squared:         </th> <td>   0.646</td>\n",
       "</tr>\n",
       "<tr>\n",
       "  <th>Model:</th>                   <td>OLS</td>       <th>  Adj. R-squared:    </th> <td>   0.639</td>\n",
       "</tr>\n",
       "<tr>\n",
       "  <th>Method:</th>             <td>Least Squares</td>  <th>  F-statistic:       </th> <td>   91.35</td>\n",
       "</tr>\n",
       "<tr>\n",
       "  <th>Date:</th>             <td>Tue, 28 Dec 2021</td> <th>  Prob (F-statistic):</th> <td>7.21e-13</td>\n",
       "</tr>\n",
       "<tr>\n",
       "  <th>Time:</th>                 <td>22:28:04</td>     <th>  Log-Likelihood:    </th> <td>  1.6522</td>\n",
       "</tr>\n",
       "<tr>\n",
       "  <th>No. Observations:</th>      <td>    52</td>      <th>  AIC:               </th> <td>  0.6957</td>\n",
       "</tr>\n",
       "<tr>\n",
       "  <th>Df Residuals:</th>          <td>    50</td>      <th>  BIC:               </th> <td>   4.598</td>\n",
       "</tr>\n",
       "<tr>\n",
       "  <th>Df Model:</th>              <td>     1</td>      <th>                     </th>     <td> </td>   \n",
       "</tr>\n",
       "<tr>\n",
       "  <th>Covariance Type:</th>      <td>nonrobust</td>    <th>                     </th>     <td> </td>   \n",
       "</tr>\n",
       "</table>\n",
       "<table class=\"simpletable\">\n",
       "<tr>\n",
       "       <td></td>          <th>coef</th>     <th>std err</th>      <th>t</th>      <th>P>|t|</th>  <th>[0.025</th>    <th>0.975]</th>  \n",
       "</tr>\n",
       "<tr>\n",
       "  <th>Intercept</th>   <td>    0.2857</td> <td>    0.064</td> <td>    4.472</td> <td> 0.000</td> <td>    0.157</td> <td>    0.414</td>\n",
       "</tr>\n",
       "<tr>\n",
       "  <th>is_democrat</th> <td>    0.7143</td> <td>    0.075</td> <td>    9.558</td> <td> 0.000</td> <td>    0.564</td> <td>    0.864</td>\n",
       "</tr>\n",
       "</table>\n",
       "<table class=\"simpletable\">\n",
       "<tr>\n",
       "  <th>Omnibus:</th>       <td>31.166</td> <th>  Durbin-Watson:     </th> <td>   1.829</td>\n",
       "</tr>\n",
       "<tr>\n",
       "  <th>Prob(Omnibus):</th> <td> 0.000</td> <th>  Jarque-Bera (JB):  </th> <td>  64.636</td>\n",
       "</tr>\n",
       "<tr>\n",
       "  <th>Skew:</th>          <td> 1.828</td> <th>  Prob(JB):          </th> <td>9.22e-15</td>\n",
       "</tr>\n",
       "<tr>\n",
       "  <th>Kurtosis:</th>      <td> 7.057</td> <th>  Cond. No.          </th> <td>    3.63</td>\n",
       "</tr>\n",
       "</table><br/><br/>Notes:<br/>[1] Standard Errors assume that the covariance matrix of the errors is correctly specified."
      ],
      "text/plain": [
       "<class 'statsmodels.iolib.summary.Summary'>\n",
       "\"\"\"\n",
       "                            OLS Regression Results                            \n",
       "==============================================================================\n",
       "Dep. Variable:         supports_paris   R-squared:                       0.646\n",
       "Model:                            OLS   Adj. R-squared:                  0.639\n",
       "Method:                 Least Squares   F-statistic:                     91.35\n",
       "Date:                Tue, 28 Dec 2021   Prob (F-statistic):           7.21e-13\n",
       "Time:                        22:28:04   Log-Likelihood:                 1.6522\n",
       "No. Observations:                  52   AIC:                            0.6957\n",
       "Df Residuals:                      50   BIC:                             4.598\n",
       "Df Model:                           1                                         \n",
       "Covariance Type:            nonrobust                                         \n",
       "===============================================================================\n",
       "                  coef    std err          t      P>|t|      [0.025      0.975]\n",
       "-------------------------------------------------------------------------------\n",
       "Intercept       0.2857      0.064      4.472      0.000       0.157       0.414\n",
       "is_democrat     0.7143      0.075      9.558      0.000       0.564       0.864\n",
       "==============================================================================\n",
       "Omnibus:                       31.166   Durbin-Watson:                   1.829\n",
       "Prob(Omnibus):                  0.000   Jarque-Bera (JB):               64.636\n",
       "Skew:                           1.828   Prob(JB):                     9.22e-15\n",
       "Kurtosis:                       7.057   Cond. No.                         3.63\n",
       "==============================================================================\n",
       "\n",
       "Notes:\n",
       "[1] Standard Errors assume that the covariance matrix of the errors is correctly specified.\n",
       "\"\"\""
      ]
     },
     "execution_count": 31,
     "metadata": {},
     "output_type": "execute_result"
    }
   ],
   "source": [
    "#supports paris and is_democrat\n",
    "#city_dataset[['is_democrat']] = city_dataset[['is_democrat']].astype(bool)\n",
    "city_dataset[['is_democrat']] = city_dataset[['is_democrat']].astype(int)\n",
    "model6 = smf.ols(formula='supports_paris ~ is_democrat', data=city_dataset)\n",
    "results6 = model6.fit()\n",
    "results6.summary()"
   ]
  },
  {
   "cell_type": "code",
   "execution_count": 67,
   "metadata": {
    "collapsed": true
   },
   "outputs": [
    {
     "name": "stdout",
     "output_type": "stream",
     "text": [
      "There is a 99.99999999999997 percent chance a democrat supports paris\n",
      "There is a 28.571428571428626 percent chance a non-democrat supports paris\n"
     ]
    }
   ],
   "source": [
    "#print(results6.params)\n",
    "\n",
    "def supports_paris(party):\n",
    "    \"\"\"\n",
    "    predicts percent chance a city supports paris based on whether their mayor is a democrat\n",
    "    enter 1 for democrat, 0 for not a democrat\n",
    "    \"\"\"\n",
    "    b0, b1 = results6.params\n",
    "    return (b0 + b1*party)\n",
    "\n",
    "democrat = supports_paris(1)\n",
    "not_dem = supports_paris(0)\n",
    "\n",
    "print(f'There is a {democrat*100} percent chance a democrat supports paris')\n",
    "print(f'There is a {not_dem*100} percent chance a non-democrat supports paris')"
   ]
  },
  {
   "cell_type": "code",
   "execution_count": 72,
   "metadata": {
    "collapsed": true
   },
   "outputs": [
    {
     "name": "stdout",
     "output_type": "stream",
     "text": [
      "                            OLS Regression Results                            \n",
      "==============================================================================\n",
      "Dep. Variable:         supports_paris   R-squared:                       0.687\n",
      "Model:                            OLS   Adj. R-squared:                  0.674\n",
      "Method:                 Least Squares   F-statistic:                     53.79\n",
      "Date:                Tue, 28 Dec 2021   Prob (F-statistic):           4.35e-13\n",
      "Time:                        23:00:32   Log-Likelihood:                 4.8391\n",
      "No. Observations:                  52   AIC:                            -3.678\n",
      "Df Residuals:                      49   BIC:                             2.175\n",
      "Df Model:                           2                                         \n",
      "Covariance Type:            nonrobust                                         \n",
      "================================================================================\n",
      "                   coef    std err          t      P>|t|      [0.025      0.975]\n",
      "--------------------------------------------------------------------------------\n",
      "Intercept        0.2758      0.061      4.534      0.000       0.154       0.398\n",
      "is_democrat      0.5783      0.089      6.493      0.000       0.399       0.757\n",
      "conservatism    -0.3388      0.134     -2.528      0.015      -0.608      -0.069\n",
      "==============================================================================\n",
      "Omnibus:                       23.906   Durbin-Watson:                   1.797\n",
      "Prob(Omnibus):                  0.000   Jarque-Bera (JB):               37.771\n",
      "Skew:                           1.532   Prob(JB):                     6.28e-09\n",
      "Kurtosis:                       5.836   Cond. No.                         6.18\n",
      "==============================================================================\n",
      "\n",
      "Notes:\n",
      "[1] Standard Errors assume that the covariance matrix of the errors is correctly specified.\n"
     ]
    }
   ],
   "source": [
    "model7 = smf.ols(formula='supports_paris ~ is_democrat + conservatism', data=city_dataset)\n",
    "results7 = model7.fit()\n",
    "print(results7.summary())"
   ]
  },
  {
   "cell_type": "code",
   "execution_count": 32,
   "metadata": {},
   "outputs": [],
   "source": [
    "#Multiple regression, logistic regression, and then look through with sklearn. On model, try conservatism squared?."
   ]
  },
  {
   "cell_type": "code",
   "execution_count": null,
   "metadata": {},
   "outputs": [],
   "source": []
  }
 ],
 "metadata": {
  "interpreter": {
   "hash": "4f81b116f3ce7de0ce761b0a60cfad69037d5aec172af081f3d23541584a32cc"
  },
  "kernelspec": {
   "display_name": "Python 3",
   "language": "python",
   "name": "python3"
  },
  "language_info": {
   "codemirror_mode": {
    "name": "ipython",
    "version": 3
   },
   "file_extension": ".py",
   "mimetype": "text/x-python",
   "name": "python",
   "nbconvert_exporter": "python",
   "pygments_lexer": "ipython3",
   "version": "3.8.5"
  }
 },
 "nbformat": 4,
 "nbformat_minor": 2
}
